{
 "cells": [
  {
   "cell_type": "code",
   "execution_count": 385,
   "metadata": {},
   "outputs": [],
   "source": [
    "import numpy as np\n",
    "import pandas as pd\n",
    "import matplotlib.pyplot as plt\n",
    "import seaborn as sns"
   ]
  },
  {
   "cell_type": "code",
   "execution_count": 386,
   "metadata": {},
   "outputs": [],
   "source": [
    "df = pd.read_csv('car.csv')\n",
    "columns = ['buying', 'maint', 'doors', 'persons', 'lug_boot', 'safety', 'evaluation']\n",
    "df.columns = columns"
   ]
  },
  {
   "cell_type": "code",
   "execution_count": 387,
   "metadata": {},
   "outputs": [
    {
     "data": {
      "text/html": [
       "<div>\n",
       "<style scoped>\n",
       "    .dataframe tbody tr th:only-of-type {\n",
       "        vertical-align: middle;\n",
       "    }\n",
       "\n",
       "    .dataframe tbody tr th {\n",
       "        vertical-align: top;\n",
       "    }\n",
       "\n",
       "    .dataframe thead th {\n",
       "        text-align: right;\n",
       "    }\n",
       "</style>\n",
       "<table border=\"1\" class=\"dataframe\">\n",
       "  <thead>\n",
       "    <tr style=\"text-align: right;\">\n",
       "      <th></th>\n",
       "      <th>buying</th>\n",
       "      <th>maint</th>\n",
       "      <th>doors</th>\n",
       "      <th>persons</th>\n",
       "      <th>lug_boot</th>\n",
       "      <th>safety</th>\n",
       "      <th>evaluation</th>\n",
       "    </tr>\n",
       "  </thead>\n",
       "  <tbody>\n",
       "    <tr>\n",
       "      <th>0</th>\n",
       "      <td>vhigh</td>\n",
       "      <td>vhigh</td>\n",
       "      <td>2</td>\n",
       "      <td>2</td>\n",
       "      <td>small</td>\n",
       "      <td>low</td>\n",
       "      <td>unacc</td>\n",
       "    </tr>\n",
       "    <tr>\n",
       "      <th>1</th>\n",
       "      <td>vhigh</td>\n",
       "      <td>vhigh</td>\n",
       "      <td>2</td>\n",
       "      <td>2</td>\n",
       "      <td>small</td>\n",
       "      <td>med</td>\n",
       "      <td>unacc</td>\n",
       "    </tr>\n",
       "    <tr>\n",
       "      <th>2</th>\n",
       "      <td>vhigh</td>\n",
       "      <td>vhigh</td>\n",
       "      <td>2</td>\n",
       "      <td>2</td>\n",
       "      <td>small</td>\n",
       "      <td>high</td>\n",
       "      <td>unacc</td>\n",
       "    </tr>\n",
       "    <tr>\n",
       "      <th>3</th>\n",
       "      <td>vhigh</td>\n",
       "      <td>vhigh</td>\n",
       "      <td>2</td>\n",
       "      <td>2</td>\n",
       "      <td>med</td>\n",
       "      <td>low</td>\n",
       "      <td>unacc</td>\n",
       "    </tr>\n",
       "    <tr>\n",
       "      <th>4</th>\n",
       "      <td>vhigh</td>\n",
       "      <td>vhigh</td>\n",
       "      <td>2</td>\n",
       "      <td>2</td>\n",
       "      <td>med</td>\n",
       "      <td>med</td>\n",
       "      <td>unacc</td>\n",
       "    </tr>\n",
       "  </tbody>\n",
       "</table>\n",
       "</div>"
      ],
      "text/plain": [
       "  buying  maint doors persons lug_boot safety evaluation\n",
       "0  vhigh  vhigh     2       2    small    low      unacc\n",
       "1  vhigh  vhigh     2       2    small    med      unacc\n",
       "2  vhigh  vhigh     2       2    small   high      unacc\n",
       "3  vhigh  vhigh     2       2      med    low      unacc\n",
       "4  vhigh  vhigh     2       2      med    med      unacc"
      ]
     },
     "execution_count": 387,
     "metadata": {},
     "output_type": "execute_result"
    }
   ],
   "source": [
    "df.head()\n"
   ]
  },
  {
   "cell_type": "code",
   "execution_count": 388,
   "metadata": {},
   "outputs": [
    {
     "data": {
      "text/plain": [
       "(1728, 7)"
      ]
     },
     "execution_count": 388,
     "metadata": {},
     "output_type": "execute_result"
    }
   ],
   "source": [
    "df.shape"
   ]
  },
  {
   "cell_type": "code",
   "execution_count": 389,
   "metadata": {},
   "outputs": [
    {
     "name": "stdout",
     "output_type": "stream",
     "text": [
      "<class 'pandas.core.frame.DataFrame'>\n",
      "RangeIndex: 1728 entries, 0 to 1727\n",
      "Data columns (total 7 columns):\n",
      " #   Column      Non-Null Count  Dtype \n",
      "---  ------      --------------  ----- \n",
      " 0   buying      1728 non-null   object\n",
      " 1   maint       1728 non-null   object\n",
      " 2   doors       1728 non-null   object\n",
      " 3   persons     1728 non-null   object\n",
      " 4   lug_boot    1728 non-null   object\n",
      " 5   safety      1728 non-null   object\n",
      " 6   evaluation  1728 non-null   object\n",
      "dtypes: object(7)\n",
      "memory usage: 94.6+ KB\n"
     ]
    }
   ],
   "source": [
    "df.info()"
   ]
  },
  {
   "cell_type": "code",
   "execution_count": 390,
   "metadata": {},
   "outputs": [
    {
     "data": {
      "text/html": [
       "<div>\n",
       "<style scoped>\n",
       "    .dataframe tbody tr th:only-of-type {\n",
       "        vertical-align: middle;\n",
       "    }\n",
       "\n",
       "    .dataframe tbody tr th {\n",
       "        vertical-align: top;\n",
       "    }\n",
       "\n",
       "    .dataframe thead th {\n",
       "        text-align: right;\n",
       "    }\n",
       "</style>\n",
       "<table border=\"1\" class=\"dataframe\">\n",
       "  <thead>\n",
       "    <tr style=\"text-align: right;\">\n",
       "      <th></th>\n",
       "      <th>buying</th>\n",
       "      <th>maint</th>\n",
       "      <th>doors</th>\n",
       "      <th>persons</th>\n",
       "      <th>lug_boot</th>\n",
       "      <th>safety</th>\n",
       "      <th>evaluation</th>\n",
       "    </tr>\n",
       "  </thead>\n",
       "  <tbody>\n",
       "    <tr>\n",
       "      <th>0</th>\n",
       "      <td>4</td>\n",
       "      <td>4</td>\n",
       "      <td>1</td>\n",
       "      <td>1</td>\n",
       "      <td>1</td>\n",
       "      <td>1</td>\n",
       "      <td>1</td>\n",
       "    </tr>\n",
       "    <tr>\n",
       "      <th>1</th>\n",
       "      <td>4</td>\n",
       "      <td>4</td>\n",
       "      <td>1</td>\n",
       "      <td>1</td>\n",
       "      <td>1</td>\n",
       "      <td>2</td>\n",
       "      <td>1</td>\n",
       "    </tr>\n",
       "    <tr>\n",
       "      <th>2</th>\n",
       "      <td>4</td>\n",
       "      <td>4</td>\n",
       "      <td>1</td>\n",
       "      <td>1</td>\n",
       "      <td>1</td>\n",
       "      <td>3</td>\n",
       "      <td>1</td>\n",
       "    </tr>\n",
       "    <tr>\n",
       "      <th>3</th>\n",
       "      <td>4</td>\n",
       "      <td>4</td>\n",
       "      <td>1</td>\n",
       "      <td>1</td>\n",
       "      <td>2</td>\n",
       "      <td>1</td>\n",
       "      <td>1</td>\n",
       "    </tr>\n",
       "    <tr>\n",
       "      <th>4</th>\n",
       "      <td>4</td>\n",
       "      <td>4</td>\n",
       "      <td>1</td>\n",
       "      <td>1</td>\n",
       "      <td>2</td>\n",
       "      <td>2</td>\n",
       "      <td>1</td>\n",
       "    </tr>\n",
       "  </tbody>\n",
       "</table>\n",
       "</div>"
      ],
      "text/plain": [
       "   buying  maint  doors  persons  lug_boot  safety  evaluation\n",
       "0       4      4      1        1         1       1           1\n",
       "1       4      4      1        1         1       2           1\n",
       "2       4      4      1        1         1       3           1\n",
       "3       4      4      1        1         2       1           1\n",
       "4       4      4      1        1         2       2           1"
      ]
     },
     "execution_count": 390,
     "metadata": {},
     "output_type": "execute_result"
    }
   ],
   "source": [
    "# df['Person_Capacity'] = LE.fit_transform(df['Person_Capacity'])\n",
    "import warnings\n",
    "warnings.filterwarnings(\"ignore\")\n",
    "mapping = {\n",
    "    \n",
    "    'm_buying_and_maint' : {\n",
    "        # For 'buying' & 'maint' columns.\n",
    "        'low': 1,\n",
    "        'med': 2,\n",
    "        'high': 3,\n",
    "        'vhigh': 4,\n",
    "    },\n",
    "    \n",
    "    'm_doors' : {\n",
    "        # For 'doors' columns.\n",
    "        '2': 1,\n",
    "        '3': 2,\n",
    "        '4': 3,\n",
    "        '5more': 4,\n",
    "    },\n",
    "    \n",
    "    'm_persons' : {\n",
    "        # For 'persons' columns.\n",
    "        '2': 1,\n",
    "        '4': 2,\n",
    "        'more': 3,\n",
    "    },\n",
    "    \n",
    "    'm_lug_boot' : {\n",
    "        # For 'lug_boot' column.\n",
    "        'small': 1,\n",
    "        'med': 2,\n",
    "        'big': 3,\n",
    "    },\n",
    "    \n",
    "    'm_safety' : {\n",
    "        # For 'safety' column.\n",
    "        'low': 1,\n",
    "        'med': 2,\n",
    "        'high': 3,\n",
    "    },\n",
    "    \n",
    "    'm_evaluation' : {\n",
    "        # For 'evaluation' column.\n",
    "        'unacc': 1,\n",
    "        'acc': 2,\n",
    "        'good': 3,\n",
    "        'vgood': 4\n",
    "    }\n",
    "}\n",
    "\n",
    "df_encoded = df\n",
    "\n",
    "df_encoded['buying'] = df['buying'].replace(mapping['m_buying_and_maint'])\n",
    "df_encoded['maint'] = df['maint'].replace(mapping['m_buying_and_maint'])\n",
    "df_encoded['doors'] = df['doors'].replace(mapping['m_doors'])\n",
    "df_encoded['persons'] = df['persons'].replace(mapping['m_persons'])\n",
    "df_encoded['lug_boot'] = df['lug_boot'].replace(mapping['m_lug_boot'])\n",
    "df_encoded['safety'] = df['safety'].replace(mapping['m_safety'])\n",
    "df_encoded['evaluation'] = df['evaluation'].replace(mapping['m_evaluation'])\n",
    "\n",
    "df_encoded.head()"
   ]
  },
  {
   "cell_type": "code",
   "execution_count": 391,
   "metadata": {},
   "outputs": [
    {
     "data": {
      "text/plain": [
       "buying        int64\n",
       "maint         int64\n",
       "doors         int64\n",
       "persons       int64\n",
       "lug_boot      int64\n",
       "safety        int64\n",
       "evaluation    int64\n",
       "dtype: object"
      ]
     },
     "execution_count": 391,
     "metadata": {},
     "output_type": "execute_result"
    }
   ],
   "source": [
    "df.dtypes"
   ]
  },
  {
   "cell_type": "code",
   "execution_count": 392,
   "metadata": {},
   "outputs": [
    {
     "data": {
      "text/plain": [
       "evaluation\n",
       "1    1210\n",
       "2     384\n",
       "3      69\n",
       "4      65\n",
       "Name: count, dtype: int64"
      ]
     },
     "execution_count": 392,
     "metadata": {},
     "output_type": "execute_result"
    }
   ],
   "source": [
    "df_encoded[\"evaluation\"].value_counts()"
   ]
  },
  {
   "cell_type": "code",
   "execution_count": 393,
   "metadata": {},
   "outputs": [],
   "source": [
    "# df = df[(df['evaluation'] == 1) | (df['evaluation'] == 2)]"
   ]
  },
  {
   "cell_type": "code",
   "execution_count": 394,
   "metadata": {},
   "outputs": [],
   "source": [
    "A = df_encoded[df_encoded['evaluation'] == 4]\n",
    "B = df_encoded[df_encoded['evaluation'] == 3]\n",
    "C = df_encoded[df_encoded['evaluation'] == 2].head(67)\n",
    "D = df_encoded[df_encoded['evaluation'] == 1].head(70)\n"
   ]
  },
  {
   "cell_type": "code",
   "execution_count": 395,
   "metadata": {},
   "outputs": [
    {
     "data": {
      "text/html": [
       "<div>\n",
       "<style scoped>\n",
       "    .dataframe tbody tr th:only-of-type {\n",
       "        vertical-align: middle;\n",
       "    }\n",
       "\n",
       "    .dataframe tbody tr th {\n",
       "        vertical-align: top;\n",
       "    }\n",
       "\n",
       "    .dataframe thead th {\n",
       "        text-align: right;\n",
       "    }\n",
       "</style>\n",
       "<table border=\"1\" class=\"dataframe\">\n",
       "  <thead>\n",
       "    <tr style=\"text-align: right;\">\n",
       "      <th></th>\n",
       "      <th>buying</th>\n",
       "      <th>maint</th>\n",
       "      <th>doors</th>\n",
       "      <th>persons</th>\n",
       "      <th>lug_boot</th>\n",
       "      <th>safety</th>\n",
       "      <th>evaluation</th>\n",
       "    </tr>\n",
       "  </thead>\n",
       "  <tbody>\n",
       "    <tr>\n",
       "      <th>0</th>\n",
       "      <td>1</td>\n",
       "      <td>3</td>\n",
       "      <td>2</td>\n",
       "      <td>3</td>\n",
       "      <td>3</td>\n",
       "      <td>3</td>\n",
       "      <td>4</td>\n",
       "    </tr>\n",
       "    <tr>\n",
       "      <th>1</th>\n",
       "      <td>1</td>\n",
       "      <td>1</td>\n",
       "      <td>2</td>\n",
       "      <td>2</td>\n",
       "      <td>1</td>\n",
       "      <td>3</td>\n",
       "      <td>3</td>\n",
       "    </tr>\n",
       "    <tr>\n",
       "      <th>2</th>\n",
       "      <td>2</td>\n",
       "      <td>1</td>\n",
       "      <td>3</td>\n",
       "      <td>3</td>\n",
       "      <td>1</td>\n",
       "      <td>3</td>\n",
       "      <td>3</td>\n",
       "    </tr>\n",
       "    <tr>\n",
       "      <th>3</th>\n",
       "      <td>1</td>\n",
       "      <td>1</td>\n",
       "      <td>3</td>\n",
       "      <td>3</td>\n",
       "      <td>3</td>\n",
       "      <td>2</td>\n",
       "      <td>3</td>\n",
       "    </tr>\n",
       "    <tr>\n",
       "      <th>4</th>\n",
       "      <td>4</td>\n",
       "      <td>1</td>\n",
       "      <td>4</td>\n",
       "      <td>2</td>\n",
       "      <td>1</td>\n",
       "      <td>3</td>\n",
       "      <td>2</td>\n",
       "    </tr>\n",
       "    <tr>\n",
       "      <th>...</th>\n",
       "      <td>...</td>\n",
       "      <td>...</td>\n",
       "      <td>...</td>\n",
       "      <td>...</td>\n",
       "      <td>...</td>\n",
       "      <td>...</td>\n",
       "      <td>...</td>\n",
       "    </tr>\n",
       "    <tr>\n",
       "      <th>266</th>\n",
       "      <td>2</td>\n",
       "      <td>1</td>\n",
       "      <td>3</td>\n",
       "      <td>3</td>\n",
       "      <td>2</td>\n",
       "      <td>3</td>\n",
       "      <td>4</td>\n",
       "    </tr>\n",
       "    <tr>\n",
       "      <th>267</th>\n",
       "      <td>4</td>\n",
       "      <td>1</td>\n",
       "      <td>3</td>\n",
       "      <td>2</td>\n",
       "      <td>2</td>\n",
       "      <td>3</td>\n",
       "      <td>2</td>\n",
       "    </tr>\n",
       "    <tr>\n",
       "      <th>268</th>\n",
       "      <td>2</td>\n",
       "      <td>1</td>\n",
       "      <td>2</td>\n",
       "      <td>2</td>\n",
       "      <td>2</td>\n",
       "      <td>3</td>\n",
       "      <td>3</td>\n",
       "    </tr>\n",
       "    <tr>\n",
       "      <th>269</th>\n",
       "      <td>1</td>\n",
       "      <td>2</td>\n",
       "      <td>4</td>\n",
       "      <td>2</td>\n",
       "      <td>2</td>\n",
       "      <td>2</td>\n",
       "      <td>3</td>\n",
       "    </tr>\n",
       "    <tr>\n",
       "      <th>270</th>\n",
       "      <td>1</td>\n",
       "      <td>2</td>\n",
       "      <td>3</td>\n",
       "      <td>3</td>\n",
       "      <td>1</td>\n",
       "      <td>3</td>\n",
       "      <td>3</td>\n",
       "    </tr>\n",
       "  </tbody>\n",
       "</table>\n",
       "<p>271 rows × 7 columns</p>\n",
       "</div>"
      ],
      "text/plain": [
       "     buying  maint  doors  persons  lug_boot  safety  evaluation\n",
       "0         1      3      2        3         3       3           4\n",
       "1         1      1      2        2         1       3           3\n",
       "2         2      1      3        3         1       3           3\n",
       "3         1      1      3        3         3       2           3\n",
       "4         4      1      4        2         1       3           2\n",
       "..      ...    ...    ...      ...       ...     ...         ...\n",
       "266       2      1      3        3         2       3           4\n",
       "267       4      1      3        2         2       3           2\n",
       "268       2      1      2        2         2       3           3\n",
       "269       1      2      4        2         2       2           3\n",
       "270       1      2      3        3         1       3           3\n",
       "\n",
       "[271 rows x 7 columns]"
      ]
     },
     "execution_count": 395,
     "metadata": {},
     "output_type": "execute_result"
    }
   ],
   "source": [
    "df_encoded = pd.concat([A,B,C,D])\n",
    "from sklearn.utils import shuffle\n",
    "\n",
    "# Shuffle the DataFrame\n",
    "df_encoded = df_encoded.sample(frac=1, random_state=42).reset_index(drop=True)\n",
    "\n",
    "# `frac=1` ensures all rows are included in the shuffle.\n",
    "# `reset_index(drop=True)` resets the index after shuffling.\n",
    "\n",
    "df_encoded"
   ]
  },
  {
   "cell_type": "code",
   "execution_count": 396,
   "metadata": {},
   "outputs": [
    {
     "data": {
      "text/html": [
       "<div>\n",
       "<style scoped>\n",
       "    .dataframe tbody tr th:only-of-type {\n",
       "        vertical-align: middle;\n",
       "    }\n",
       "\n",
       "    .dataframe tbody tr th {\n",
       "        vertical-align: top;\n",
       "    }\n",
       "\n",
       "    .dataframe thead th {\n",
       "        text-align: right;\n",
       "    }\n",
       "</style>\n",
       "<table border=\"1\" class=\"dataframe\">\n",
       "  <thead>\n",
       "    <tr style=\"text-align: right;\">\n",
       "      <th></th>\n",
       "      <th>buying</th>\n",
       "      <th>maint</th>\n",
       "      <th>doors</th>\n",
       "      <th>persons</th>\n",
       "      <th>lug_boot</th>\n",
       "      <th>safety</th>\n",
       "    </tr>\n",
       "  </thead>\n",
       "  <tbody>\n",
       "    <tr>\n",
       "      <th>0</th>\n",
       "      <td>1</td>\n",
       "      <td>3</td>\n",
       "      <td>2</td>\n",
       "      <td>3</td>\n",
       "      <td>3</td>\n",
       "      <td>3</td>\n",
       "    </tr>\n",
       "    <tr>\n",
       "      <th>1</th>\n",
       "      <td>1</td>\n",
       "      <td>1</td>\n",
       "      <td>2</td>\n",
       "      <td>2</td>\n",
       "      <td>1</td>\n",
       "      <td>3</td>\n",
       "    </tr>\n",
       "    <tr>\n",
       "      <th>2</th>\n",
       "      <td>2</td>\n",
       "      <td>1</td>\n",
       "      <td>3</td>\n",
       "      <td>3</td>\n",
       "      <td>1</td>\n",
       "      <td>3</td>\n",
       "    </tr>\n",
       "    <tr>\n",
       "      <th>3</th>\n",
       "      <td>1</td>\n",
       "      <td>1</td>\n",
       "      <td>3</td>\n",
       "      <td>3</td>\n",
       "      <td>3</td>\n",
       "      <td>2</td>\n",
       "    </tr>\n",
       "    <tr>\n",
       "      <th>4</th>\n",
       "      <td>4</td>\n",
       "      <td>1</td>\n",
       "      <td>4</td>\n",
       "      <td>2</td>\n",
       "      <td>1</td>\n",
       "      <td>3</td>\n",
       "    </tr>\n",
       "    <tr>\n",
       "      <th>...</th>\n",
       "      <td>...</td>\n",
       "      <td>...</td>\n",
       "      <td>...</td>\n",
       "      <td>...</td>\n",
       "      <td>...</td>\n",
       "      <td>...</td>\n",
       "    </tr>\n",
       "    <tr>\n",
       "      <th>266</th>\n",
       "      <td>2</td>\n",
       "      <td>1</td>\n",
       "      <td>3</td>\n",
       "      <td>3</td>\n",
       "      <td>2</td>\n",
       "      <td>3</td>\n",
       "    </tr>\n",
       "    <tr>\n",
       "      <th>267</th>\n",
       "      <td>4</td>\n",
       "      <td>1</td>\n",
       "      <td>3</td>\n",
       "      <td>2</td>\n",
       "      <td>2</td>\n",
       "      <td>3</td>\n",
       "    </tr>\n",
       "    <tr>\n",
       "      <th>268</th>\n",
       "      <td>2</td>\n",
       "      <td>1</td>\n",
       "      <td>2</td>\n",
       "      <td>2</td>\n",
       "      <td>2</td>\n",
       "      <td>3</td>\n",
       "    </tr>\n",
       "    <tr>\n",
       "      <th>269</th>\n",
       "      <td>1</td>\n",
       "      <td>2</td>\n",
       "      <td>4</td>\n",
       "      <td>2</td>\n",
       "      <td>2</td>\n",
       "      <td>2</td>\n",
       "    </tr>\n",
       "    <tr>\n",
       "      <th>270</th>\n",
       "      <td>1</td>\n",
       "      <td>2</td>\n",
       "      <td>3</td>\n",
       "      <td>3</td>\n",
       "      <td>1</td>\n",
       "      <td>3</td>\n",
       "    </tr>\n",
       "  </tbody>\n",
       "</table>\n",
       "<p>271 rows × 6 columns</p>\n",
       "</div>"
      ],
      "text/plain": [
       "     buying  maint  doors  persons  lug_boot  safety\n",
       "0         1      3      2        3         3       3\n",
       "1         1      1      2        2         1       3\n",
       "2         2      1      3        3         1       3\n",
       "3         1      1      3        3         3       2\n",
       "4         4      1      4        2         1       3\n",
       "..      ...    ...    ...      ...       ...     ...\n",
       "266       2      1      3        3         2       3\n",
       "267       4      1      3        2         2       3\n",
       "268       2      1      2        2         2       3\n",
       "269       1      2      4        2         2       2\n",
       "270       1      2      3        3         1       3\n",
       "\n",
       "[271 rows x 6 columns]"
      ]
     },
     "execution_count": 396,
     "metadata": {},
     "output_type": "execute_result"
    }
   ],
   "source": [
    "X = df_encoded.iloc[:,:-1]\n",
    "X"
   ]
  },
  {
   "cell_type": "code",
   "execution_count": 397,
   "metadata": {},
   "outputs": [
    {
     "data": {
      "text/html": [
       "<div>\n",
       "<style scoped>\n",
       "    .dataframe tbody tr th:only-of-type {\n",
       "        vertical-align: middle;\n",
       "    }\n",
       "\n",
       "    .dataframe tbody tr th {\n",
       "        vertical-align: top;\n",
       "    }\n",
       "\n",
       "    .dataframe thead th {\n",
       "        text-align: right;\n",
       "    }\n",
       "</style>\n",
       "<table border=\"1\" class=\"dataframe\">\n",
       "  <thead>\n",
       "    <tr style=\"text-align: right;\">\n",
       "      <th></th>\n",
       "      <th>evaluation</th>\n",
       "    </tr>\n",
       "  </thead>\n",
       "  <tbody>\n",
       "    <tr>\n",
       "      <th>0</th>\n",
       "      <td>4</td>\n",
       "    </tr>\n",
       "    <tr>\n",
       "      <th>1</th>\n",
       "      <td>3</td>\n",
       "    </tr>\n",
       "    <tr>\n",
       "      <th>2</th>\n",
       "      <td>3</td>\n",
       "    </tr>\n",
       "    <tr>\n",
       "      <th>3</th>\n",
       "      <td>3</td>\n",
       "    </tr>\n",
       "    <tr>\n",
       "      <th>4</th>\n",
       "      <td>2</td>\n",
       "    </tr>\n",
       "    <tr>\n",
       "      <th>...</th>\n",
       "      <td>...</td>\n",
       "    </tr>\n",
       "    <tr>\n",
       "      <th>266</th>\n",
       "      <td>4</td>\n",
       "    </tr>\n",
       "    <tr>\n",
       "      <th>267</th>\n",
       "      <td>2</td>\n",
       "    </tr>\n",
       "    <tr>\n",
       "      <th>268</th>\n",
       "      <td>3</td>\n",
       "    </tr>\n",
       "    <tr>\n",
       "      <th>269</th>\n",
       "      <td>3</td>\n",
       "    </tr>\n",
       "    <tr>\n",
       "      <th>270</th>\n",
       "      <td>3</td>\n",
       "    </tr>\n",
       "  </tbody>\n",
       "</table>\n",
       "<p>271 rows × 1 columns</p>\n",
       "</div>"
      ],
      "text/plain": [
       "     evaluation\n",
       "0             4\n",
       "1             3\n",
       "2             3\n",
       "3             3\n",
       "4             2\n",
       "..          ...\n",
       "266           4\n",
       "267           2\n",
       "268           3\n",
       "269           3\n",
       "270           3\n",
       "\n",
       "[271 rows x 1 columns]"
      ]
     },
     "execution_count": 397,
     "metadata": {},
     "output_type": "execute_result"
    }
   ],
   "source": [
    "y = df_encoded.iloc[:,-1:]\n",
    "y"
   ]
  },
  {
   "cell_type": "code",
   "execution_count": 398,
   "metadata": {},
   "outputs": [],
   "source": [
    "from sklearn.model_selection import train_test_split\n",
    "X_train,X_test,y_train,y_test = train_test_split(X,y,test_size=0.2,random_state=42)\n"
   ]
  },
  {
   "cell_type": "code",
   "execution_count": 399,
   "metadata": {},
   "outputs": [],
   "source": [
    "from sklearn.ensemble import RandomForestClassifier\n",
    "from sklearn.linear_model import LogisticRegression\n",
    "from sklearn.neighbors import KNeighborsClassifier\n",
    "RF = RandomForestClassifier()\n",
    "from sklearn.model_selection import cross_val_score\n",
    "from hyperopt import hp,tpe,fmin,STATUS_OK,Trials"
   ]
  },
  {
   "cell_type": "code",
   "execution_count": 400,
   "metadata": {},
   "outputs": [],
   "source": [
    "RF = RandomForestClassifier(criterion = \"gini\", max_features =  \"sqrt\", n_estimators =   100)"
   ]
  },
  {
   "cell_type": "code",
   "execution_count": 401,
   "metadata": {},
   "outputs": [
    {
     "data": {
      "text/html": [
       "<style>#sk-container-id-18 {color: black;background-color: white;}#sk-container-id-18 pre{padding: 0;}#sk-container-id-18 div.sk-toggleable {background-color: white;}#sk-container-id-18 label.sk-toggleable__label {cursor: pointer;display: block;width: 100%;margin-bottom: 0;padding: 0.3em;box-sizing: border-box;text-align: center;}#sk-container-id-18 label.sk-toggleable__label-arrow:before {content: \"▸\";float: left;margin-right: 0.25em;color: #696969;}#sk-container-id-18 label.sk-toggleable__label-arrow:hover:before {color: black;}#sk-container-id-18 div.sk-estimator:hover label.sk-toggleable__label-arrow:before {color: black;}#sk-container-id-18 div.sk-toggleable__content {max-height: 0;max-width: 0;overflow: hidden;text-align: left;background-color: #f0f8ff;}#sk-container-id-18 div.sk-toggleable__content pre {margin: 0.2em;color: black;border-radius: 0.25em;background-color: #f0f8ff;}#sk-container-id-18 input.sk-toggleable__control:checked~div.sk-toggleable__content {max-height: 200px;max-width: 100%;overflow: auto;}#sk-container-id-18 input.sk-toggleable__control:checked~label.sk-toggleable__label-arrow:before {content: \"▾\";}#sk-container-id-18 div.sk-estimator input.sk-toggleable__control:checked~label.sk-toggleable__label {background-color: #d4ebff;}#sk-container-id-18 div.sk-label input.sk-toggleable__control:checked~label.sk-toggleable__label {background-color: #d4ebff;}#sk-container-id-18 input.sk-hidden--visually {border: 0;clip: rect(1px 1px 1px 1px);clip: rect(1px, 1px, 1px, 1px);height: 1px;margin: -1px;overflow: hidden;padding: 0;position: absolute;width: 1px;}#sk-container-id-18 div.sk-estimator {font-family: monospace;background-color: #f0f8ff;border: 1px dotted black;border-radius: 0.25em;box-sizing: border-box;margin-bottom: 0.5em;}#sk-container-id-18 div.sk-estimator:hover {background-color: #d4ebff;}#sk-container-id-18 div.sk-parallel-item::after {content: \"\";width: 100%;border-bottom: 1px solid gray;flex-grow: 1;}#sk-container-id-18 div.sk-label:hover label.sk-toggleable__label {background-color: #d4ebff;}#sk-container-id-18 div.sk-serial::before {content: \"\";position: absolute;border-left: 1px solid gray;box-sizing: border-box;top: 0;bottom: 0;left: 50%;z-index: 0;}#sk-container-id-18 div.sk-serial {display: flex;flex-direction: column;align-items: center;background-color: white;padding-right: 0.2em;padding-left: 0.2em;position: relative;}#sk-container-id-18 div.sk-item {position: relative;z-index: 1;}#sk-container-id-18 div.sk-parallel {display: flex;align-items: stretch;justify-content: center;background-color: white;position: relative;}#sk-container-id-18 div.sk-item::before, #sk-container-id-18 div.sk-parallel-item::before {content: \"\";position: absolute;border-left: 1px solid gray;box-sizing: border-box;top: 0;bottom: 0;left: 50%;z-index: -1;}#sk-container-id-18 div.sk-parallel-item {display: flex;flex-direction: column;z-index: 1;position: relative;background-color: white;}#sk-container-id-18 div.sk-parallel-item:first-child::after {align-self: flex-end;width: 50%;}#sk-container-id-18 div.sk-parallel-item:last-child::after {align-self: flex-start;width: 50%;}#sk-container-id-18 div.sk-parallel-item:only-child::after {width: 0;}#sk-container-id-18 div.sk-dashed-wrapped {border: 1px dashed gray;margin: 0 0.4em 0.5em 0.4em;box-sizing: border-box;padding-bottom: 0.4em;background-color: white;}#sk-container-id-18 div.sk-label label {font-family: monospace;font-weight: bold;display: inline-block;line-height: 1.2em;}#sk-container-id-18 div.sk-label-container {text-align: center;}#sk-container-id-18 div.sk-container {/* jupyter's `normalize.less` sets `[hidden] { display: none; }` but bootstrap.min.css set `[hidden] { display: none !important; }` so we also need the `!important` here to be able to override the default hidden behavior on the sphinx rendered scikit-learn.org. See: https://github.com/scikit-learn/scikit-learn/issues/21755 */display: inline-block !important;position: relative;}#sk-container-id-18 div.sk-text-repr-fallback {display: none;}</style><div id=\"sk-container-id-18\" class=\"sk-top-container\"><div class=\"sk-text-repr-fallback\"><pre>RandomForestClassifier()</pre><b>In a Jupyter environment, please rerun this cell to show the HTML representation or trust the notebook. <br />On GitHub, the HTML representation is unable to render, please try loading this page with nbviewer.org.</b></div><div class=\"sk-container\" hidden><div class=\"sk-item\"><div class=\"sk-estimator sk-toggleable\"><input class=\"sk-toggleable__control sk-hidden--visually\" id=\"sk-estimator-id-18\" type=\"checkbox\" checked><label for=\"sk-estimator-id-18\" class=\"sk-toggleable__label sk-toggleable__label-arrow\">RandomForestClassifier</label><div class=\"sk-toggleable__content\"><pre>RandomForestClassifier()</pre></div></div></div></div></div>"
      ],
      "text/plain": [
       "RandomForestClassifier()"
      ]
     },
     "execution_count": 401,
     "metadata": {},
     "output_type": "execute_result"
    }
   ],
   "source": [
    "RF.fit(X_train,y_train)\n"
   ]
  },
  {
   "cell_type": "code",
   "execution_count": 402,
   "metadata": {},
   "outputs": [],
   "source": [
    "y_hat = RF.predict(X_test)\n"
   ]
  },
  {
   "cell_type": "code",
   "execution_count": 403,
   "metadata": {},
   "outputs": [
    {
     "name": "stdout",
     "output_type": "stream",
     "text": [
      "0.9818181818181818\n"
     ]
    }
   ],
   "source": [
    "from sklearn.metrics import classification_report, confusion_matrix, accuracy_score\n",
    "print(accuracy_score(y_test,y_hat))\n"
   ]
  },
  {
   "cell_type": "code",
   "execution_count": 415,
   "metadata": {},
   "outputs": [
    {
     "data": {
      "text/plain": [
       "(array([2], dtype=int64),\n",
       " array([4, 1, 3, 3, 3, 2], dtype=int64),\n",
       " evaluation    2\n",
       " Name: 15, dtype: int64)"
      ]
     },
     "execution_count": 415,
     "metadata": {},
     "output_type": "execute_result"
    }
   ],
   "source": [
    "n = 50\n",
    "RF.predict([X_test.iloc[n]]), X_test.iloc[n].values, y_test.iloc[n]"
   ]
  },
  {
   "cell_type": "code",
   "execution_count": 405,
   "metadata": {},
   "outputs": [
    {
     "data": {
      "text/plain": [
       "array([[1., 0., 0., 0.]])"
      ]
     },
     "execution_count": 405,
     "metadata": {},
     "output_type": "execute_result"
    }
   ],
   "source": [
    "RF.predict_proba([X_test.iloc[n]])"
   ]
  },
  {
   "cell_type": "code",
   "execution_count": null,
   "metadata": {},
   "outputs": [],
   "source": []
  },
  {
   "cell_type": "code",
   "execution_count": 406,
   "metadata": {},
   "outputs": [
    {
     "name": "stdout",
     "output_type": "stream",
     "text": [
      "              precision    recall  f1-score   support\n",
      "\n",
      "           1       1.00      1.00      1.00        16\n",
      "           2       1.00      1.00      1.00        14\n",
      "           3       0.89      1.00      0.94         8\n",
      "           4       1.00      0.94      0.97        17\n",
      "\n",
      "    accuracy                           0.98        55\n",
      "   macro avg       0.97      0.99      0.98        55\n",
      "weighted avg       0.98      0.98      0.98        55\n",
      "\n"
     ]
    }
   ],
   "source": [
    "print(classification_report(y_test,y_hat))\n"
   ]
  },
  {
   "cell_type": "code",
   "execution_count": 407,
   "metadata": {},
   "outputs": [
    {
     "name": "stdout",
     "output_type": "stream",
     "text": [
      "[[16  0  0  0]\n",
      " [ 0 14  0  0]\n",
      " [ 0  0  8  0]\n",
      " [ 0  0  1 16]]\n"
     ]
    }
   ],
   "source": [
    "print(confusion_matrix(y_test,y_hat))\n"
   ]
  },
  {
   "cell_type": "code",
   "execution_count": 408,
   "metadata": {},
   "outputs": [
    {
     "data": {
      "text/html": [
       "<style>#sk-container-id-19 {color: black;background-color: white;}#sk-container-id-19 pre{padding: 0;}#sk-container-id-19 div.sk-toggleable {background-color: white;}#sk-container-id-19 label.sk-toggleable__label {cursor: pointer;display: block;width: 100%;margin-bottom: 0;padding: 0.3em;box-sizing: border-box;text-align: center;}#sk-container-id-19 label.sk-toggleable__label-arrow:before {content: \"▸\";float: left;margin-right: 0.25em;color: #696969;}#sk-container-id-19 label.sk-toggleable__label-arrow:hover:before {color: black;}#sk-container-id-19 div.sk-estimator:hover label.sk-toggleable__label-arrow:before {color: black;}#sk-container-id-19 div.sk-toggleable__content {max-height: 0;max-width: 0;overflow: hidden;text-align: left;background-color: #f0f8ff;}#sk-container-id-19 div.sk-toggleable__content pre {margin: 0.2em;color: black;border-radius: 0.25em;background-color: #f0f8ff;}#sk-container-id-19 input.sk-toggleable__control:checked~div.sk-toggleable__content {max-height: 200px;max-width: 100%;overflow: auto;}#sk-container-id-19 input.sk-toggleable__control:checked~label.sk-toggleable__label-arrow:before {content: \"▾\";}#sk-container-id-19 div.sk-estimator input.sk-toggleable__control:checked~label.sk-toggleable__label {background-color: #d4ebff;}#sk-container-id-19 div.sk-label input.sk-toggleable__control:checked~label.sk-toggleable__label {background-color: #d4ebff;}#sk-container-id-19 input.sk-hidden--visually {border: 0;clip: rect(1px 1px 1px 1px);clip: rect(1px, 1px, 1px, 1px);height: 1px;margin: -1px;overflow: hidden;padding: 0;position: absolute;width: 1px;}#sk-container-id-19 div.sk-estimator {font-family: monospace;background-color: #f0f8ff;border: 1px dotted black;border-radius: 0.25em;box-sizing: border-box;margin-bottom: 0.5em;}#sk-container-id-19 div.sk-estimator:hover {background-color: #d4ebff;}#sk-container-id-19 div.sk-parallel-item::after {content: \"\";width: 100%;border-bottom: 1px solid gray;flex-grow: 1;}#sk-container-id-19 div.sk-label:hover label.sk-toggleable__label {background-color: #d4ebff;}#sk-container-id-19 div.sk-serial::before {content: \"\";position: absolute;border-left: 1px solid gray;box-sizing: border-box;top: 0;bottom: 0;left: 50%;z-index: 0;}#sk-container-id-19 div.sk-serial {display: flex;flex-direction: column;align-items: center;background-color: white;padding-right: 0.2em;padding-left: 0.2em;position: relative;}#sk-container-id-19 div.sk-item {position: relative;z-index: 1;}#sk-container-id-19 div.sk-parallel {display: flex;align-items: stretch;justify-content: center;background-color: white;position: relative;}#sk-container-id-19 div.sk-item::before, #sk-container-id-19 div.sk-parallel-item::before {content: \"\";position: absolute;border-left: 1px solid gray;box-sizing: border-box;top: 0;bottom: 0;left: 50%;z-index: -1;}#sk-container-id-19 div.sk-parallel-item {display: flex;flex-direction: column;z-index: 1;position: relative;background-color: white;}#sk-container-id-19 div.sk-parallel-item:first-child::after {align-self: flex-end;width: 50%;}#sk-container-id-19 div.sk-parallel-item:last-child::after {align-self: flex-start;width: 50%;}#sk-container-id-19 div.sk-parallel-item:only-child::after {width: 0;}#sk-container-id-19 div.sk-dashed-wrapped {border: 1px dashed gray;margin: 0 0.4em 0.5em 0.4em;box-sizing: border-box;padding-bottom: 0.4em;background-color: white;}#sk-container-id-19 div.sk-label label {font-family: monospace;font-weight: bold;display: inline-block;line-height: 1.2em;}#sk-container-id-19 div.sk-label-container {text-align: center;}#sk-container-id-19 div.sk-container {/* jupyter's `normalize.less` sets `[hidden] { display: none; }` but bootstrap.min.css set `[hidden] { display: none !important; }` so we also need the `!important` here to be able to override the default hidden behavior on the sphinx rendered scikit-learn.org. See: https://github.com/scikit-learn/scikit-learn/issues/21755 */display: inline-block !important;position: relative;}#sk-container-id-19 div.sk-text-repr-fallback {display: none;}</style><div id=\"sk-container-id-19\" class=\"sk-top-container\"><div class=\"sk-text-repr-fallback\"><pre>RandomForestClassifier()</pre><b>In a Jupyter environment, please rerun this cell to show the HTML representation or trust the notebook. <br />On GitHub, the HTML representation is unable to render, please try loading this page with nbviewer.org.</b></div><div class=\"sk-container\" hidden><div class=\"sk-item\"><div class=\"sk-estimator sk-toggleable\"><input class=\"sk-toggleable__control sk-hidden--visually\" id=\"sk-estimator-id-19\" type=\"checkbox\" checked><label for=\"sk-estimator-id-19\" class=\"sk-toggleable__label sk-toggleable__label-arrow\">RandomForestClassifier</label><div class=\"sk-toggleable__content\"><pre>RandomForestClassifier()</pre></div></div></div></div></div>"
      ],
      "text/plain": [
       "RandomForestClassifier()"
      ]
     },
     "execution_count": 408,
     "metadata": {},
     "output_type": "execute_result"
    }
   ],
   "source": [
    "RF"
   ]
  },
  {
   "cell_type": "code",
   "execution_count": 409,
   "metadata": {},
   "outputs": [],
   "source": [
    "import pickle\n",
    "with open('RF.pkl', 'wb') as model_file:\n",
    "    pickle.dump(RF, model_file)"
   ]
  },
  {
   "cell_type": "code",
   "execution_count": 410,
   "metadata": {},
   "outputs": [
    {
     "data": {
      "text/plain": [
       "6"
      ]
     },
     "execution_count": 410,
     "metadata": {},
     "output_type": "execute_result"
    }
   ],
   "source": [
    "RF.n_features_in_"
   ]
  },
  {
   "cell_type": "code",
   "execution_count": 411,
   "metadata": {},
   "outputs": [],
   "source": [
    "import joblib\n",
    "import onnx\n",
    "import skl2onnx\n",
    "from skl2onnx.convert import convert_sklearn\n",
    "from skl2onnx.common.data_types import FloatTensorType\n",
    "\n",
    "# Load the .pkl model\n",
    "model = joblib.load('RF.pkl')\n",
    "\n",
    "# Convert the model to ONNX\n",
    "onnx_model = convert_sklearn(model, initial_types=[('input', FloatTensorType([None, model.n_features_in_]))])\n",
    "\n",
    "# Save the ONNX model\n",
    "onnx.save_model(onnx_model, 'RF.onnx')\n"
   ]
  },
  {
   "cell_type": "code",
   "execution_count": 412,
   "metadata": {},
   "outputs": [
    {
     "name": "stdout",
     "output_type": "stream",
     "text": [
      "Input names:\n",
      "input\n",
      "Output names:\n",
      "output_label\n",
      "output_probability\n"
     ]
    }
   ],
   "source": [
    "import onnx\n",
    "\n",
    "# Load the ONNX model\n",
    "model = onnx.load(\"RF.onnx\")\n",
    "\n",
    "# Print input names\n",
    "print(\"Input names:\")\n",
    "for input in model.graph.input:\n",
    "    print(input.name)\n",
    "\n",
    "# Print output names\n",
    "print(\"Output names:\")\n",
    "for output in model.graph.output:\n",
    "    print(output.name)\n"
   ]
  },
  {
   "cell_type": "code",
   "execution_count": 413,
   "metadata": {},
   "outputs": [
    {
     "name": "stdout",
     "output_type": "stream",
     "text": [
      "Input names:\n",
      "input\n",
      "\n",
      "Output names:\n",
      "output_label\n",
      "output_probability\n"
     ]
    }
   ],
   "source": [
    "import onnx\n",
    "\n",
    "# Load the ONNX model\n",
    "model_path = \"RF.onnx\"  # Update with your actual model path\n",
    "model = onnx.load(model_path)\n",
    "\n",
    "# Get the model's input names\n",
    "print(\"Input names:\")\n",
    "for input in model.graph.input:\n",
    "    print(input.name)\n",
    "\n",
    "# Get the model's output names\n",
    "print(\"\\nOutput names:\")\n",
    "for output in model.graph.output:\n",
    "    print(output.name)\n"
   ]
  },
  {
   "cell_type": "code",
   "execution_count": 416,
   "metadata": {},
   "outputs": [
    {
     "name": "stdout",
     "output_type": "stream",
     "text": [
      "[array([2], dtype=int64), [{1: 0.0, 2: 0.9499999284744263, 3: 0.04999999701976776, 4: 0.0}]]\n"
     ]
    }
   ],
   "source": [
    "import onnxruntime as ort\n",
    "import numpy as np\n",
    "\n",
    "session = ort.InferenceSession(\"RF.onnx\")\n",
    "inputs = {session.get_inputs()[0].name: np.array([[4,1 ,3 ,3, 3, 2]], dtype=np.float32)}\n",
    "outputs = session.run(None, inputs)\n",
    "print(outputs)\n"
   ]
  },
  {
   "cell_type": "code",
   "execution_count": 313,
   "metadata": {},
   "outputs": [],
   "source": [
    "# scp -P 2222 -r /mnt/c/Users/A507658/Downloads/qwen2-docker/RF.onnx root@localhost:/root/"
   ]
  },
  {
   "cell_type": "code",
   "execution_count": null,
   "metadata": {},
   "outputs": [],
   "source": [
    "\n",
    "# scp -P 2222 -r /mnt/c/Users/A507658/Downloads/qwen2-docker/classification_ann_model.onnx root@localhost:/root/"
   ]
  },
  {
   "cell_type": "code",
   "execution_count": 495,
   "metadata": {},
   "outputs": [
    {
     "name": "stdout",
     "output_type": "stream",
     "text": [
      "Total of labels: 4840\n",
      "Counter({0: 1210, 1: 1210, 3: 1210, 2: 1210})\n",
      "Epoch 1/100\n",
      "121/121 [==============================] - 1s 1ms/step - loss: 0.8889 - accuracy: 0.6400\n",
      "Epoch 2/100\n",
      "121/121 [==============================] - 0s 987us/step - loss: 0.4550 - accuracy: 0.8675\n",
      "Epoch 3/100\n",
      "121/121 [==============================] - 0s 1ms/step - loss: 0.2566 - accuracy: 0.9354\n",
      "Epoch 4/100\n",
      "121/121 [==============================] - 0s 926us/step - loss: 0.1928 - accuracy: 0.9452\n",
      "Epoch 5/100\n",
      "121/121 [==============================] - 0s 1ms/step - loss: 0.1616 - accuracy: 0.9512\n",
      "Epoch 6/100\n",
      "121/121 [==============================] - 0s 1ms/step - loss: 0.1446 - accuracy: 0.9556\n",
      "Epoch 7/100\n",
      "121/121 [==============================] - 0s 1ms/step - loss: 0.1160 - accuracy: 0.9659\n",
      "Epoch 8/100\n",
      "121/121 [==============================] - 0s 1ms/step - loss: 0.1106 - accuracy: 0.9662\n",
      "Epoch 9/100\n",
      "121/121 [==============================] - 0s 930us/step - loss: 0.1031 - accuracy: 0.9675\n",
      "Epoch 10/100\n",
      "121/121 [==============================] - 0s 969us/step - loss: 0.0969 - accuracy: 0.9708\n",
      "Epoch 11/100\n",
      "121/121 [==============================] - 0s 1ms/step - loss: 0.0805 - accuracy: 0.9757\n",
      "Epoch 12/100\n",
      "121/121 [==============================] - 0s 989us/step - loss: 0.0739 - accuracy: 0.9773\n",
      "Epoch 13/100\n",
      "121/121 [==============================] - 0s 1ms/step - loss: 0.0711 - accuracy: 0.9793\n",
      "Epoch 14/100\n",
      "121/121 [==============================] - 0s 912us/step - loss: 0.0708 - accuracy: 0.9778\n",
      "Epoch 15/100\n",
      "121/121 [==============================] - 0s 1ms/step - loss: 0.0732 - accuracy: 0.9762\n",
      "Epoch 16/100\n",
      "121/121 [==============================] - 0s 978us/step - loss: 0.0629 - accuracy: 0.9788\n",
      "Epoch 17/100\n",
      "121/121 [==============================] - 0s 1ms/step - loss: 0.0546 - accuracy: 0.9848\n",
      "Epoch 18/100\n",
      "121/121 [==============================] - 0s 979us/step - loss: 0.0508 - accuracy: 0.9858\n",
      "Epoch 19/100\n",
      "121/121 [==============================] - 0s 972us/step - loss: 0.0446 - accuracy: 0.9855\n",
      "Epoch 20/100\n",
      "121/121 [==============================] - 0s 1ms/step - loss: 0.0418 - accuracy: 0.9884\n",
      "Epoch 21/100\n",
      "121/121 [==============================] - 0s 1ms/step - loss: 0.0534 - accuracy: 0.9835\n",
      "Epoch 22/100\n",
      "121/121 [==============================] - 0s 950us/step - loss: 0.0414 - accuracy: 0.9886\n",
      "Epoch 23/100\n",
      "121/121 [==============================] - 0s 961us/step - loss: 0.0396 - accuracy: 0.9861\n",
      "Epoch 24/100\n",
      "121/121 [==============================] - 0s 989us/step - loss: 0.0379 - accuracy: 0.9873\n",
      "Epoch 25/100\n",
      "121/121 [==============================] - 0s 1ms/step - loss: 0.0321 - accuracy: 0.9902\n",
      "Epoch 26/100\n",
      "121/121 [==============================] - 0s 948us/step - loss: 0.0262 - accuracy: 0.9917\n",
      "Epoch 27/100\n",
      "121/121 [==============================] - 0s 1ms/step - loss: 0.0278 - accuracy: 0.9915\n",
      "Epoch 28/100\n",
      "121/121 [==============================] - 0s 1ms/step - loss: 0.0288 - accuracy: 0.9912\n",
      "Epoch 29/100\n",
      "121/121 [==============================] - 0s 914us/step - loss: 0.0284 - accuracy: 0.9917\n",
      "Epoch 30/100\n",
      "121/121 [==============================] - 0s 1ms/step - loss: 0.0208 - accuracy: 0.9930\n",
      "Epoch 31/100\n",
      "121/121 [==============================] - 0s 950us/step - loss: 0.0191 - accuracy: 0.9943\n",
      "Epoch 32/100\n",
      "121/121 [==============================] - 0s 973us/step - loss: 0.0191 - accuracy: 0.9956\n",
      "Epoch 33/100\n",
      "121/121 [==============================] - 0s 966us/step - loss: 0.0177 - accuracy: 0.9948\n",
      "Epoch 34/100\n",
      "121/121 [==============================] - 0s 972us/step - loss: 0.0192 - accuracy: 0.9935\n",
      "Epoch 35/100\n",
      "121/121 [==============================] - 0s 1ms/step - loss: 0.0164 - accuracy: 0.9951\n",
      "Epoch 36/100\n",
      "121/121 [==============================] - 0s 972us/step - loss: 0.0148 - accuracy: 0.9961\n",
      "Epoch 37/100\n",
      "121/121 [==============================] - 0s 1ms/step - loss: 0.0197 - accuracy: 0.9925\n",
      "Epoch 38/100\n",
      "121/121 [==============================] - 0s 913us/step - loss: 0.0218 - accuracy: 0.9923\n",
      "Epoch 39/100\n",
      "121/121 [==============================] - 0s 1ms/step - loss: 0.0144 - accuracy: 0.9961\n",
      "Epoch 40/100\n",
      "121/121 [==============================] - 0s 1ms/step - loss: 0.0144 - accuracy: 0.9956\n",
      "Epoch 41/100\n",
      "121/121 [==============================] - 0s 1ms/step - loss: 0.0106 - accuracy: 0.9966\n",
      "Epoch 42/100\n",
      "121/121 [==============================] - 0s 1ms/step - loss: 0.0114 - accuracy: 0.9974\n",
      "Epoch 43/100\n",
      "121/121 [==============================] - 0s 941us/step - loss: 0.0086 - accuracy: 0.9979\n",
      "Epoch 44/100\n",
      "121/121 [==============================] - 0s 1ms/step - loss: 0.0088 - accuracy: 0.9977\n",
      "Epoch 45/100\n",
      "121/121 [==============================] - 0s 990us/step - loss: 0.0117 - accuracy: 0.9961\n",
      "Epoch 46/100\n",
      "121/121 [==============================] - 0s 1ms/step - loss: 0.0078 - accuracy: 0.9987\n",
      "Epoch 47/100\n",
      "121/121 [==============================] - 0s 965us/step - loss: 0.0139 - accuracy: 0.9961\n",
      "Epoch 48/100\n",
      "121/121 [==============================] - 0s 1ms/step - loss: 0.0473 - accuracy: 0.9842\n",
      "Epoch 49/100\n",
      "121/121 [==============================] - 0s 1ms/step - loss: 0.0079 - accuracy: 0.9985\n",
      "Epoch 50/100\n",
      "121/121 [==============================] - 0s 984us/step - loss: 0.0067 - accuracy: 0.9985\n",
      "Epoch 51/100\n",
      "121/121 [==============================] - 0s 1ms/step - loss: 0.0069 - accuracy: 0.9977\n",
      "Epoch 52/100\n",
      "121/121 [==============================] - 0s 1ms/step - loss: 0.0125 - accuracy: 0.9948\n",
      "Epoch 53/100\n",
      "121/121 [==============================] - 0s 979us/step - loss: 0.0164 - accuracy: 0.9943\n",
      "Epoch 54/100\n",
      "121/121 [==============================] - 0s 1ms/step - loss: 0.0052 - accuracy: 0.9990\n",
      "Epoch 55/100\n",
      "121/121 [==============================] - 0s 1ms/step - loss: 0.0047 - accuracy: 0.9987\n",
      "Epoch 56/100\n",
      "121/121 [==============================] - 0s 1ms/step - loss: 0.0041 - accuracy: 0.9992\n",
      "Epoch 57/100\n",
      "121/121 [==============================] - 0s 996us/step - loss: 0.0035 - accuracy: 0.9992\n",
      "Epoch 58/100\n",
      "121/121 [==============================] - 0s 973us/step - loss: 0.0036 - accuracy: 0.9995\n",
      "Epoch 59/100\n",
      "121/121 [==============================] - 0s 1ms/step - loss: 0.0076 - accuracy: 0.9982\n",
      "Epoch 60/100\n",
      "121/121 [==============================] - 0s 1ms/step - loss: 0.0359 - accuracy: 0.9881\n",
      "Epoch 61/100\n",
      "121/121 [==============================] - 0s 940us/step - loss: 0.0051 - accuracy: 0.9987\n",
      "Epoch 62/100\n",
      "121/121 [==============================] - 0s 971us/step - loss: 0.0033 - accuracy: 0.9992\n",
      "Epoch 63/100\n",
      "121/121 [==============================] - 0s 1ms/step - loss: 0.0023 - accuracy: 0.9997\n",
      "Epoch 64/100\n",
      "121/121 [==============================] - 0s 940us/step - loss: 0.0024 - accuracy: 0.9995\n",
      "Epoch 65/100\n",
      "121/121 [==============================] - 0s 1ms/step - loss: 0.0022 - accuracy: 0.9997\n",
      "Epoch 66/100\n",
      "121/121 [==============================] - 0s 963us/step - loss: 0.0021 - accuracy: 0.9997\n",
      "Epoch 67/100\n",
      "121/121 [==============================] - 0s 1ms/step - loss: 0.0023 - accuracy: 0.9995\n",
      "Epoch 68/100\n",
      "121/121 [==============================] - 0s 968us/step - loss: 0.0097 - accuracy: 0.9961\n",
      "Epoch 69/100\n",
      "121/121 [==============================] - 0s 1ms/step - loss: 0.0800 - accuracy: 0.9773\n",
      "Epoch 70/100\n",
      "121/121 [==============================] - 0s 944us/step - loss: 0.0058 - accuracy: 0.9990\n",
      "Epoch 71/100\n",
      "121/121 [==============================] - 0s 968us/step - loss: 0.0034 - accuracy: 0.9995\n",
      "Epoch 72/100\n",
      "121/121 [==============================] - 0s 1ms/step - loss: 0.0023 - accuracy: 0.9997\n",
      "Epoch 73/100\n",
      "121/121 [==============================] - 0s 938us/step - loss: 0.0020 - accuracy: 0.9997\n",
      "Epoch 74/100\n",
      "121/121 [==============================] - 0s 1ms/step - loss: 0.0018 - accuracy: 1.0000\n",
      "Epoch 75/100\n",
      "121/121 [==============================] - 0s 1ms/step - loss: 0.0016 - accuracy: 1.0000\n",
      "Epoch 76/100\n",
      "121/121 [==============================] - 0s 1ms/step - loss: 0.0016 - accuracy: 0.9997\n",
      "Epoch 77/100\n",
      "121/121 [==============================] - 0s 972us/step - loss: 0.0014 - accuracy: 1.0000\n",
      "Epoch 78/100\n",
      "121/121 [==============================] - 0s 986us/step - loss: 0.0017 - accuracy: 0.9997\n",
      "Epoch 79/100\n",
      "121/121 [==============================] - 0s 1ms/step - loss: 0.0012 - accuracy: 1.0000\n",
      "Epoch 80/100\n",
      "121/121 [==============================] - 0s 1ms/step - loss: 0.0012 - accuracy: 1.0000\n",
      "Epoch 81/100\n",
      "121/121 [==============================] - 0s 973us/step - loss: 0.0201 - accuracy: 0.9941\n",
      "Epoch 82/100\n",
      "121/121 [==============================] - 0s 1ms/step - loss: 0.0117 - accuracy: 0.9977\n",
      "Epoch 83/100\n",
      "121/121 [==============================] - 0s 950us/step - loss: 0.0030 - accuracy: 0.9992\n",
      "Epoch 84/100\n",
      "121/121 [==============================] - 0s 1ms/step - loss: 0.0013 - accuracy: 1.0000\n",
      "Epoch 85/100\n",
      "121/121 [==============================] - 0s 966us/step - loss: 0.0011 - accuracy: 1.0000\n",
      "Epoch 86/100\n",
      "121/121 [==============================] - 0s 972us/step - loss: 9.8728e-04 - accuracy: 0.9997\n",
      "Epoch 87/100\n",
      "121/121 [==============================] - 0s 1ms/step - loss: 7.9466e-04 - accuracy: 1.0000\n",
      "Epoch 88/100\n",
      "121/121 [==============================] - 0s 1ms/step - loss: 8.0952e-04 - accuracy: 0.9997\n",
      "Epoch 89/100\n",
      "121/121 [==============================] - 0s 1ms/step - loss: 8.8648e-04 - accuracy: 1.0000\n",
      "Epoch 90/100\n",
      "121/121 [==============================] - 0s 862us/step - loss: 7.4550e-04 - accuracy: 1.0000\n",
      "Epoch 91/100\n",
      "121/121 [==============================] - 0s 1ms/step - loss: 6.7594e-04 - accuracy: 1.0000\n",
      "Epoch 92/100\n",
      "121/121 [==============================] - 0s 1ms/step - loss: 6.3051e-04 - accuracy: 1.0000\n",
      "Epoch 93/100\n",
      "121/121 [==============================] - 0s 994us/step - loss: 5.9143e-04 - accuracy: 1.0000\n",
      "Epoch 94/100\n",
      "121/121 [==============================] - 0s 932us/step - loss: 5.8824e-04 - accuracy: 1.0000\n",
      "Epoch 95/100\n",
      "121/121 [==============================] - 0s 986us/step - loss: 5.7992e-04 - accuracy: 1.0000\n",
      "Epoch 96/100\n",
      "121/121 [==============================] - 0s 973us/step - loss: 7.5028e-04 - accuracy: 1.0000\n",
      "Epoch 97/100\n",
      "121/121 [==============================] - 0s 957us/step - loss: 4.5520e-04 - accuracy: 1.0000\n",
      "Epoch 98/100\n",
      "121/121 [==============================] - 0s 975us/step - loss: 5.9565e-04 - accuracy: 1.0000\n",
      "Epoch 99/100\n",
      "121/121 [==============================] - 0s 1ms/step - loss: 5.2681e-04 - accuracy: 1.0000\n",
      "Epoch 100/100\n",
      "121/121 [==============================] - 0s 949us/step - loss: 4.6801e-04 - accuracy: 1.0000\n",
      "31/31 [==============================] - 0s 923us/step\n",
      "Accuracy: 1.0\n",
      "Confusion Matrix:\n",
      " [[242   0   0   0]\n",
      " [  0 242   0   0]\n",
      " [  0   0 242   0]\n",
      " [  0   0   0 242]]\n",
      "Classification Report:\n",
      "               precision    recall  f1-score   support\n",
      "\n",
      "           0       1.00      1.00      1.00       242\n",
      "           1       1.00      1.00      1.00       242\n",
      "           2       1.00      1.00      1.00       242\n",
      "           3       1.00      1.00      1.00       242\n",
      "\n",
      "    accuracy                           1.00       968\n",
      "   macro avg       1.00      1.00      1.00       968\n",
      "weighted avg       1.00      1.00      1.00       968\n",
      "\n"
     ]
    }
   ],
   "source": [
    "import pandas as pd\n",
    "import numpy as np\n",
    "from imblearn.over_sampling import SMOTE\n",
    "from sklearn.model_selection import train_test_split\n",
    "from tensorflow.keras.models import Sequential\n",
    "from tensorflow.keras.layers import Dense\n",
    "from tensorflow.keras.optimizers import Adam\n",
    "from tensorflow.keras.utils import to_categorical\n",
    "from sklearn.metrics import accuracy_score, confusion_matrix, classification_report\n",
    "from collections import Counter\n",
    "\n",
    "# Load the dataset\n",
    "df = pd.read_csv('car.csv')\n",
    "columns = ['buying', 'maint', 'doors', 'persons', 'lug_boot', 'safety', 'evaluation']\n",
    "df.columns = columns\n",
    "\n",
    "# Define the mappings for encoding categorical features\n",
    "mapping = {\n",
    "    'm_buying_and_maint': {\n",
    "        'low': 1,\n",
    "        'med': 2,\n",
    "        'high': 3,\n",
    "        'vhigh': 4,\n",
    "    },\n",
    "    'm_doors': {\n",
    "        '2': 1,\n",
    "        '3': 2,\n",
    "        '4': 3,\n",
    "        '5more': 4,\n",
    "    },\n",
    "    'm_persons': {\n",
    "        '2': 1,\n",
    "        '4': 2,\n",
    "        'more': 3,\n",
    "    },\n",
    "    'm_lug_boot': {\n",
    "        'small': 1,\n",
    "        'med': 2,\n",
    "        'big': 3,\n",
    "    },\n",
    "    'm_safety': {\n",
    "        'low': 1,\n",
    "        'med': 2,\n",
    "        'high': 3,\n",
    "    },\n",
    "    'm_evaluation': {\n",
    "        'unacc': 0,\n",
    "        'acc': 1,\n",
    "        'good': 2,\n",
    "        'vgood': 3\n",
    "    }\n",
    "}\n",
    "\n",
    "# Apply encoding\n",
    "df_encoded = df.copy()\n",
    "df_encoded['buying'] = df['buying'].replace(mapping['m_buying_and_maint'])\n",
    "df_encoded['maint'] = df['maint'].replace(mapping['m_buying_and_maint'])\n",
    "df_encoded['doors'] = df['doors'].replace(mapping['m_doors'])\n",
    "df_encoded['persons'] = df['persons'].replace(mapping['m_persons'])\n",
    "df_encoded['lug_boot'] = df['lug_boot'].replace(mapping['m_lug_boot'])\n",
    "df_encoded['safety'] = df['safety'].replace(mapping['m_safety'])\n",
    "df_encoded['evaluation'] = df['evaluation'].replace(mapping['m_evaluation'])\n",
    "\n",
    "# Separate features and target\n",
    "X = df_encoded.drop(['evaluation'], axis=1)\n",
    "y = df_encoded['evaluation']\n",
    "\n",
    "# Apply SMOTE to handle class imbalance\n",
    "s = SMOTE(k_neighbors=2)\n",
    "X_resampled, y_resampled = s.fit_resample(X, y)\n",
    "\n",
    "# Print the class distribution after resampling\n",
    "print(f'Total of labels: {len(y_resampled)}')\n",
    "print(Counter(y_resampled))\n",
    "\n",
    "# Split the data into train and test sets\n",
    "X_train, X_test, y_train, y_test = train_test_split(X_resampled, y_resampled, test_size=0.2, random_state=42, stratify=y_resampled)\n",
    "\n",
    "# # Shift labels from [1, 2, 3, 4] to [0, 1, 2, 3]\n",
    "# y_train = y_train - 1\n",
    "# y_test = y_test - 1\n",
    "\n",
    "# Define the ANN model for multi-class classification\n",
    "def create_ann_model(input_dim, num_classes):\n",
    "    model = Sequential()\n",
    "    model.add(Dense(128, input_dim=input_dim, activation='relu'))\n",
    "    model.add(Dense(64, activation='relu'))\n",
    "    model.add(Dense(32, activation='relu'))\n",
    "    model.add(Dense(num_classes, activation='softmax'))  # Output layer for multi-class classification\n",
    "    model.compile(optimizer=Adam(), loss='categorical_crossentropy', metrics=['accuracy'])\n",
    "    return model\n",
    "\n",
    "# Ensure y_train is one-hot encoded\n",
    "num_classes = len(np.unique(y_train))\n",
    "y_train_one_hot = to_categorical(y_train, num_classes=num_classes)\n",
    "\n",
    "# Create and compile the model\n",
    "ann_model = create_ann_model(input_dim=X_train.shape[1], num_classes=num_classes)\n",
    "\n",
    "# Train the model\n",
    "ann_model.fit(X_train, y_train_one_hot, epochs=100, batch_size=32, verbose=1)\n",
    "\n",
    "# Convert y_test to one-hot encoding for evaluation\n",
    "y_test_one_hot = to_categorical(y_test, num_classes=num_classes)\n",
    "\n",
    "# Predictions\n",
    "predictions = np.argmax(ann_model.predict(X_test), axis=1)\n",
    "\n",
    "# Evaluate accuracy\n",
    "accuracy = accuracy_score(y_test, predictions)\n",
    "print(\"Accuracy:\", accuracy)\n",
    "\n",
    "# Confusion matrix\n",
    "conf_matrix = confusion_matrix(y_test, predictions)\n",
    "print(\"Confusion Matrix:\\n\", conf_matrix)\n",
    "\n",
    "# Classification report\n",
    "class_report = classification_report(y_test, predictions)\n",
    "print(\"Classification Report:\\n\", class_report)\n"
   ]
  },
  {
   "cell_type": "code",
   "execution_count": 497,
   "metadata": {},
   "outputs": [],
   "source": [
    "import onnxmltools\n",
    "import onnxruntime as ort"
   ]
  },
  {
   "cell_type": "code",
   "execution_count": 500,
   "metadata": {},
   "outputs": [
    {
     "name": "stdout",
     "output_type": "stream",
     "text": [
      "Predicted MPG for input [[4. 1. 3. 3. 3. 2.]]: [[1.7787680e-06 9.9999821e-01 2.4764050e-17 1.0829036e-36]]\n"
     ]
    }
   ],
   "source": [
    "# Save the ANN model as ONNX\n",
    "onnx_model = onnxmltools.convert_keras(ann_model)\n",
    "onnxmltools.utils.save_model(onnx_model, \"classification_ann_model.onnx\")\n",
    "\n",
    "# Load the ONNX model for inference using ONNX Runtime\n",
    "ort_session = ort.InferenceSession(\"classification_ann_model.onnx\")\n",
    "# Example input for prediction\n",
    "example_input1 = np.array([[ 4, 1, 3, 3, 3, 2]], dtype=np.float32)\n",
    "\n",
    "\n",
    "\n",
    "# Prepare inputs for ONNX model inference\n",
    "input_name = ort_session.get_inputs()[0].name\n",
    "prediction1 = ort_session.run(None, {input_name: example_input1})[0]\n",
    "\n",
    "# Print predictions from the ONNX model\n",
    "print(f'Predicted MPG for input {example_input1}: {prediction1}')\n"
   ]
  },
  {
   "cell_type": "code",
   "execution_count": 502,
   "metadata": {},
   "outputs": [
    {
     "name": "stdout",
     "output_type": "stream",
     "text": [
      "Class 1: 0.0001779%\n",
      "Class 2: 99.9998245%\n",
      "Class 3: 0.0000000%\n",
      "Class 4: 0.0000000%\n"
     ]
    }
   ],
   "source": [
    "import numpy as np\n",
    "import onnxruntime as ort\n",
    "\n",
    "# Load the ONNX model for inference using ONNX Runtime\n",
    "ort_session = ort.InferenceSession(\"classification_ann_model.onnx\")\n",
    "\n",
    "# Example input for prediction\n",
    "example_input1 = np.array([[4, 1, 3, 3, 3, 2]], dtype=np.float32)\n",
    "\n",
    "# Prepare inputs for ONNX model inference\n",
    "input_name = ort_session.get_inputs()[0].name\n",
    "prediction1 = ort_session.run(None, {input_name: example_input1})[0]\n",
    "\n",
    "# Convert predictions to percentages\n",
    "prediction_percentage = prediction1 * 100\n",
    "\n",
    "# Print predictions as percentages for each class\n",
    "for i, p in enumerate(prediction_percentage[0]):\n",
    "    print(f\"Class {i+1}: {p:.7f}%\")\n"
   ]
  },
  {
   "cell_type": "code",
   "execution_count": 503,
   "metadata": {},
   "outputs": [
    {
     "name": "stdout",
     "output_type": "stream",
     "text": [
      "Input names:\n",
      "dense_68_input\n",
      "\n",
      "Output names:\n",
      "dense_71\n"
     ]
    }
   ],
   "source": [
    "import onnx\n",
    "\n",
    "# Load the ONNX model\n",
    "model = onnx.load(\"classification_ann_model.onnx\")\n",
    "\n",
    "# Print input and output node names\n",
    "print(\"Input names:\")\n",
    "for input in model.graph.input:\n",
    "    print(input.name)\n",
    "\n",
    "print(\"\\nOutput names:\")\n",
    "for output in model.graph.output:\n",
    "    print(output.name)"
   ]
  },
  {
   "cell_type": "code",
   "execution_count": null,
   "metadata": {},
   "outputs": [],
   "source": []
  },
  {
   "cell_type": "code",
   "execution_count": null,
   "metadata": {},
   "outputs": [],
   "source": [
    "aarch64-linux-gnu-g++ -o classification1 classification_ANN.cpp     -I/home/phani/onnxruntime-linux-aarch64-1.18.0/include     -L/home/phani/onnxruntime-linux-aarch64-1.18.0/lib     -lonnxruntime"
   ]
  },
  {
   "cell_type": "code",
   "execution_count": null,
   "metadata": {},
   "outputs": [],
   "source": [
    "scp -P 2222 -r /mnt/c/Users/A507658/Downloads/qwen2-docker/classification_ann_model.onnx root@localhost:/root/"
   ]
  }
 ],
 "metadata": {
  "kernelspec": {
   "display_name": "base",
   "language": "python",
   "name": "python3"
  },
  "language_info": {
   "codemirror_mode": {
    "name": "ipython",
    "version": 3
   },
   "file_extension": ".py",
   "mimetype": "text/x-python",
   "name": "python",
   "nbconvert_exporter": "python",
   "pygments_lexer": "ipython3",
   "version": "3.11.7"
  }
 },
 "nbformat": 4,
 "nbformat_minor": 2
}
