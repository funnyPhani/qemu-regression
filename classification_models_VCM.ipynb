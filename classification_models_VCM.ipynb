{
 "cells": [
  {
   "cell_type": "code",
   "execution_count": 38,
   "metadata": {},
   "outputs": [],
   "source": [
    "import random\n",
    "import math\n",
    "import time\n",
    "\n",
    "# Data management\n",
    "import numpy as np\n",
    "import pandas as pd\n",
    "\n",
    "# Plotting libraries\n",
    "import matplotlib.pyplot as plt\n",
    "%matplotlib inline\n",
    "import seaborn as sns\n",
    "sns.set_style('whitegrid')\n",
    "\n",
    "# Oversampling Technique\n",
    "from imblearn.over_sampling import SMOTE\n",
    "\n",
    "from collections import Counter\n",
    "\n",
    "# Data Splitting\n",
    "from sklearn.model_selection import train_test_split as tts\n",
    "\n",
    "# Random Forest Model\n",
    "from sklearn.ensemble import RandomForestClassifier\n",
    "from sklearn.model_selection import GridSearchCV as GSCV\n",
    "\n",
    "# Model metrics\n",
    "from sklearn.metrics import accuracy_score\n",
    "from sklearn.metrics import confusion_matrix as cm\n",
    "from sklearn.metrics import ConfusionMatrixDisplay as cmd\n",
    "from sklearn.metrics import classification_report as cr"
   ]
  },
  {
   "cell_type": "code",
   "execution_count": 39,
   "metadata": {},
   "outputs": [
    {
     "data": {
      "text/html": [
       "<div>\n",
       "<style scoped>\n",
       "    .dataframe tbody tr th:only-of-type {\n",
       "        vertical-align: middle;\n",
       "    }\n",
       "\n",
       "    .dataframe tbody tr th {\n",
       "        vertical-align: top;\n",
       "    }\n",
       "\n",
       "    .dataframe thead th {\n",
       "        text-align: right;\n",
       "    }\n",
       "</style>\n",
       "<table border=\"1\" class=\"dataframe\">\n",
       "  <thead>\n",
       "    <tr style=\"text-align: right;\">\n",
       "      <th></th>\n",
       "      <th>Buying_Price</th>\n",
       "      <th>Maintenance_Price</th>\n",
       "      <th>No_of_Doors</th>\n",
       "      <th>Person_Capacity</th>\n",
       "      <th>Size_of_Luggage</th>\n",
       "      <th>Safety</th>\n",
       "      <th>Car_Acceptability</th>\n",
       "    </tr>\n",
       "  </thead>\n",
       "  <tbody>\n",
       "    <tr>\n",
       "      <th>0</th>\n",
       "      <td>vhigh</td>\n",
       "      <td>vhigh</td>\n",
       "      <td>2</td>\n",
       "      <td>2</td>\n",
       "      <td>small</td>\n",
       "      <td>low</td>\n",
       "      <td>unacc</td>\n",
       "    </tr>\n",
       "    <tr>\n",
       "      <th>1</th>\n",
       "      <td>vhigh</td>\n",
       "      <td>vhigh</td>\n",
       "      <td>2</td>\n",
       "      <td>2</td>\n",
       "      <td>small</td>\n",
       "      <td>med</td>\n",
       "      <td>unacc</td>\n",
       "    </tr>\n",
       "    <tr>\n",
       "      <th>2</th>\n",
       "      <td>vhigh</td>\n",
       "      <td>vhigh</td>\n",
       "      <td>2</td>\n",
       "      <td>2</td>\n",
       "      <td>small</td>\n",
       "      <td>high</td>\n",
       "      <td>unacc</td>\n",
       "    </tr>\n",
       "    <tr>\n",
       "      <th>3</th>\n",
       "      <td>vhigh</td>\n",
       "      <td>vhigh</td>\n",
       "      <td>2</td>\n",
       "      <td>2</td>\n",
       "      <td>med</td>\n",
       "      <td>low</td>\n",
       "      <td>unacc</td>\n",
       "    </tr>\n",
       "    <tr>\n",
       "      <th>4</th>\n",
       "      <td>vhigh</td>\n",
       "      <td>vhigh</td>\n",
       "      <td>2</td>\n",
       "      <td>2</td>\n",
       "      <td>med</td>\n",
       "      <td>med</td>\n",
       "      <td>unacc</td>\n",
       "    </tr>\n",
       "    <tr>\n",
       "      <th>...</th>\n",
       "      <td>...</td>\n",
       "      <td>...</td>\n",
       "      <td>...</td>\n",
       "      <td>...</td>\n",
       "      <td>...</td>\n",
       "      <td>...</td>\n",
       "      <td>...</td>\n",
       "    </tr>\n",
       "    <tr>\n",
       "      <th>1723</th>\n",
       "      <td>low</td>\n",
       "      <td>low</td>\n",
       "      <td>5more</td>\n",
       "      <td>more</td>\n",
       "      <td>med</td>\n",
       "      <td>med</td>\n",
       "      <td>good</td>\n",
       "    </tr>\n",
       "    <tr>\n",
       "      <th>1724</th>\n",
       "      <td>low</td>\n",
       "      <td>low</td>\n",
       "      <td>5more</td>\n",
       "      <td>more</td>\n",
       "      <td>med</td>\n",
       "      <td>high</td>\n",
       "      <td>vgood</td>\n",
       "    </tr>\n",
       "    <tr>\n",
       "      <th>1725</th>\n",
       "      <td>low</td>\n",
       "      <td>low</td>\n",
       "      <td>5more</td>\n",
       "      <td>more</td>\n",
       "      <td>big</td>\n",
       "      <td>low</td>\n",
       "      <td>unacc</td>\n",
       "    </tr>\n",
       "    <tr>\n",
       "      <th>1726</th>\n",
       "      <td>low</td>\n",
       "      <td>low</td>\n",
       "      <td>5more</td>\n",
       "      <td>more</td>\n",
       "      <td>big</td>\n",
       "      <td>med</td>\n",
       "      <td>good</td>\n",
       "    </tr>\n",
       "    <tr>\n",
       "      <th>1727</th>\n",
       "      <td>low</td>\n",
       "      <td>low</td>\n",
       "      <td>5more</td>\n",
       "      <td>more</td>\n",
       "      <td>big</td>\n",
       "      <td>high</td>\n",
       "      <td>vgood</td>\n",
       "    </tr>\n",
       "  </tbody>\n",
       "</table>\n",
       "<p>1728 rows × 7 columns</p>\n",
       "</div>"
      ],
      "text/plain": [
       "     Buying_Price Maintenance_Price No_of_Doors Person_Capacity  \\\n",
       "0           vhigh             vhigh           2               2   \n",
       "1           vhigh             vhigh           2               2   \n",
       "2           vhigh             vhigh           2               2   \n",
       "3           vhigh             vhigh           2               2   \n",
       "4           vhigh             vhigh           2               2   \n",
       "...           ...               ...         ...             ...   \n",
       "1723          low               low       5more            more   \n",
       "1724          low               low       5more            more   \n",
       "1725          low               low       5more            more   \n",
       "1726          low               low       5more            more   \n",
       "1727          low               low       5more            more   \n",
       "\n",
       "     Size_of_Luggage Safety Car_Acceptability  \n",
       "0              small    low             unacc  \n",
       "1              small    med             unacc  \n",
       "2              small   high             unacc  \n",
       "3                med    low             unacc  \n",
       "4                med    med             unacc  \n",
       "...              ...    ...               ...  \n",
       "1723             med    med              good  \n",
       "1724             med   high             vgood  \n",
       "1725             big    low             unacc  \n",
       "1726             big    med              good  \n",
       "1727             big   high             vgood  \n",
       "\n",
       "[1728 rows x 7 columns]"
      ]
     },
     "execution_count": 39,
     "metadata": {},
     "output_type": "execute_result"
    }
   ],
   "source": [
    "df = pd.read_csv('car.csv')\n",
    "df\n"
   ]
  },
  {
   "cell_type": "code",
   "execution_count": 40,
   "metadata": {},
   "outputs": [],
   "source": [
    "columns = ['buying', 'maint', 'doors', 'persons', 'lug_boot', 'safety', 'evaluation']\n",
    "df.columns = columns"
   ]
  },
  {
   "cell_type": "code",
   "execution_count": 41,
   "metadata": {},
   "outputs": [
    {
     "name": "stdout",
     "output_type": "stream",
     "text": [
      "<class 'pandas.core.frame.DataFrame'>\n",
      "RangeIndex: 1728 entries, 0 to 1727\n",
      "Data columns (total 7 columns):\n",
      " #   Column      Non-Null Count  Dtype \n",
      "---  ------      --------------  ----- \n",
      " 0   buying      1728 non-null   object\n",
      " 1   maint       1728 non-null   object\n",
      " 2   doors       1728 non-null   object\n",
      " 3   persons     1728 non-null   object\n",
      " 4   lug_boot    1728 non-null   object\n",
      " 5   safety      1728 non-null   object\n",
      " 6   evaluation  1728 non-null   object\n",
      "dtypes: object(7)\n",
      "memory usage: 94.6+ KB\n"
     ]
    }
   ],
   "source": [
    "df.info()"
   ]
  },
  {
   "cell_type": "code",
   "execution_count": 42,
   "metadata": {},
   "outputs": [
    {
     "data": {
      "text/html": [
       "<div>\n",
       "<style scoped>\n",
       "    .dataframe tbody tr th:only-of-type {\n",
       "        vertical-align: middle;\n",
       "    }\n",
       "\n",
       "    .dataframe tbody tr th {\n",
       "        vertical-align: top;\n",
       "    }\n",
       "\n",
       "    .dataframe thead th {\n",
       "        text-align: right;\n",
       "    }\n",
       "</style>\n",
       "<table border=\"1\" class=\"dataframe\">\n",
       "  <thead>\n",
       "    <tr style=\"text-align: right;\">\n",
       "      <th></th>\n",
       "      <th>buying</th>\n",
       "      <th>maint</th>\n",
       "      <th>doors</th>\n",
       "      <th>persons</th>\n",
       "      <th>lug_boot</th>\n",
       "      <th>safety</th>\n",
       "      <th>evaluation</th>\n",
       "    </tr>\n",
       "  </thead>\n",
       "  <tbody>\n",
       "    <tr>\n",
       "      <th>0</th>\n",
       "      <td>vhigh</td>\n",
       "      <td>vhigh</td>\n",
       "      <td>2</td>\n",
       "      <td>2</td>\n",
       "      <td>small</td>\n",
       "      <td>low</td>\n",
       "      <td>unacc</td>\n",
       "    </tr>\n",
       "    <tr>\n",
       "      <th>1</th>\n",
       "      <td>vhigh</td>\n",
       "      <td>vhigh</td>\n",
       "      <td>2</td>\n",
       "      <td>2</td>\n",
       "      <td>small</td>\n",
       "      <td>med</td>\n",
       "      <td>unacc</td>\n",
       "    </tr>\n",
       "    <tr>\n",
       "      <th>2</th>\n",
       "      <td>vhigh</td>\n",
       "      <td>vhigh</td>\n",
       "      <td>2</td>\n",
       "      <td>2</td>\n",
       "      <td>small</td>\n",
       "      <td>high</td>\n",
       "      <td>unacc</td>\n",
       "    </tr>\n",
       "    <tr>\n",
       "      <th>3</th>\n",
       "      <td>vhigh</td>\n",
       "      <td>vhigh</td>\n",
       "      <td>2</td>\n",
       "      <td>2</td>\n",
       "      <td>med</td>\n",
       "      <td>low</td>\n",
       "      <td>unacc</td>\n",
       "    </tr>\n",
       "    <tr>\n",
       "      <th>4</th>\n",
       "      <td>vhigh</td>\n",
       "      <td>vhigh</td>\n",
       "      <td>2</td>\n",
       "      <td>2</td>\n",
       "      <td>med</td>\n",
       "      <td>med</td>\n",
       "      <td>unacc</td>\n",
       "    </tr>\n",
       "  </tbody>\n",
       "</table>\n",
       "</div>"
      ],
      "text/plain": [
       "  buying  maint doors persons lug_boot safety evaluation\n",
       "0  vhigh  vhigh     2       2    small    low      unacc\n",
       "1  vhigh  vhigh     2       2    small    med      unacc\n",
       "2  vhigh  vhigh     2       2    small   high      unacc\n",
       "3  vhigh  vhigh     2       2      med    low      unacc\n",
       "4  vhigh  vhigh     2       2      med    med      unacc"
      ]
     },
     "execution_count": 42,
     "metadata": {},
     "output_type": "execute_result"
    }
   ],
   "source": [
    "df.head()"
   ]
  },
  {
   "cell_type": "code",
   "execution_count": 43,
   "metadata": {},
   "outputs": [
    {
     "data": {
      "text/html": [
       "<div>\n",
       "<style scoped>\n",
       "    .dataframe tbody tr th:only-of-type {\n",
       "        vertical-align: middle;\n",
       "    }\n",
       "\n",
       "    .dataframe tbody tr th {\n",
       "        vertical-align: top;\n",
       "    }\n",
       "\n",
       "    .dataframe thead th {\n",
       "        text-align: right;\n",
       "    }\n",
       "</style>\n",
       "<table border=\"1\" class=\"dataframe\">\n",
       "  <thead>\n",
       "    <tr style=\"text-align: right;\">\n",
       "      <th></th>\n",
       "      <th>buying</th>\n",
       "      <th>maint</th>\n",
       "      <th>doors</th>\n",
       "      <th>persons</th>\n",
       "      <th>lug_boot</th>\n",
       "      <th>safety</th>\n",
       "      <th>evaluation</th>\n",
       "    </tr>\n",
       "  </thead>\n",
       "  <tbody>\n",
       "    <tr>\n",
       "      <th>count</th>\n",
       "      <td>1728</td>\n",
       "      <td>1728</td>\n",
       "      <td>1728</td>\n",
       "      <td>1728</td>\n",
       "      <td>1728</td>\n",
       "      <td>1728</td>\n",
       "      <td>1728</td>\n",
       "    </tr>\n",
       "    <tr>\n",
       "      <th>unique</th>\n",
       "      <td>4</td>\n",
       "      <td>4</td>\n",
       "      <td>4</td>\n",
       "      <td>3</td>\n",
       "      <td>3</td>\n",
       "      <td>3</td>\n",
       "      <td>4</td>\n",
       "    </tr>\n",
       "    <tr>\n",
       "      <th>top</th>\n",
       "      <td>vhigh</td>\n",
       "      <td>vhigh</td>\n",
       "      <td>2</td>\n",
       "      <td>2</td>\n",
       "      <td>small</td>\n",
       "      <td>low</td>\n",
       "      <td>unacc</td>\n",
       "    </tr>\n",
       "    <tr>\n",
       "      <th>freq</th>\n",
       "      <td>432</td>\n",
       "      <td>432</td>\n",
       "      <td>432</td>\n",
       "      <td>576</td>\n",
       "      <td>576</td>\n",
       "      <td>576</td>\n",
       "      <td>1210</td>\n",
       "    </tr>\n",
       "  </tbody>\n",
       "</table>\n",
       "</div>"
      ],
      "text/plain": [
       "       buying  maint doors persons lug_boot safety evaluation\n",
       "count    1728   1728  1728    1728     1728   1728       1728\n",
       "unique      4      4     4       3        3      3          4\n",
       "top     vhigh  vhigh     2       2    small    low      unacc\n",
       "freq      432    432   432     576      576    576       1210"
      ]
     },
     "execution_count": 43,
     "metadata": {},
     "output_type": "execute_result"
    }
   ],
   "source": [
    "df.describe()"
   ]
  },
  {
   "cell_type": "code",
   "execution_count": 44,
   "metadata": {},
   "outputs": [
    {
     "data": {
      "text/plain": [
       "[Text(0.5, 1.0, 'Existent data (purple) and missing data (yellow) ratio')]"
      ]
     },
     "execution_count": 44,
     "metadata": {},
     "output_type": "execute_result"
    },
    {
     "data": {
      "image/png": "[encoded data removed]",
      "text/plain": [
       "<Figure size 640x480 with 1 Axes>"
      ]
     },
     "metadata": {},
     "output_type": "display_data"
    }
   ],
   "source": [
    "sns.heatmap(df.isnull(), yticklabels=False, cbar=False, cmap='viridis').set(title = 'Existent data (purple) and missing data (yellow) ratio')"
   ]
  },
  {
   "cell_type": "code",
   "execution_count": 45,
   "metadata": {},
   "outputs": [
    {
     "data": {
      "text/plain": [
       "buying        0\n",
       "maint         0\n",
       "doors         0\n",
       "persons       0\n",
       "lug_boot      0\n",
       "safety        0\n",
       "evaluation    0\n",
       "dtype: int64"
      ]
     },
     "execution_count": 45,
     "metadata": {},
     "output_type": "execute_result"
    }
   ],
   "source": [
    "df.isnull().sum()"
   ]
  },
  {
   "cell_type": "code",
   "execution_count": 46,
   "metadata": {},
   "outputs": [
    {
     "data": {
      "text/html": [
       "<div>\n",
       "<style scoped>\n",
       "    .dataframe tbody tr th:only-of-type {\n",
       "        vertical-align: middle;\n",
       "    }\n",
       "\n",
       "    .dataframe tbody tr th {\n",
       "        vertical-align: top;\n",
       "    }\n",
       "\n",
       "    .dataframe thead th {\n",
       "        text-align: right;\n",
       "    }\n",
       "</style>\n",
       "<table border=\"1\" class=\"dataframe\">\n",
       "  <thead>\n",
       "    <tr style=\"text-align: right;\">\n",
       "      <th></th>\n",
       "      <th>buying</th>\n",
       "      <th>maint</th>\n",
       "      <th>doors</th>\n",
       "      <th>persons</th>\n",
       "      <th>lug_boot</th>\n",
       "      <th>safety</th>\n",
       "      <th>evaluation</th>\n",
       "    </tr>\n",
       "  </thead>\n",
       "  <tbody>\n",
       "    <tr>\n",
       "      <th>0</th>\n",
       "      <td>4</td>\n",
       "      <td>4</td>\n",
       "      <td>1</td>\n",
       "      <td>1</td>\n",
       "      <td>1</td>\n",
       "      <td>1</td>\n",
       "      <td>1</td>\n",
       "    </tr>\n",
       "    <tr>\n",
       "      <th>1</th>\n",
       "      <td>4</td>\n",
       "      <td>4</td>\n",
       "      <td>1</td>\n",
       "      <td>1</td>\n",
       "      <td>1</td>\n",
       "      <td>2</td>\n",
       "      <td>1</td>\n",
       "    </tr>\n",
       "    <tr>\n",
       "      <th>2</th>\n",
       "      <td>4</td>\n",
       "      <td>4</td>\n",
       "      <td>1</td>\n",
       "      <td>1</td>\n",
       "      <td>1</td>\n",
       "      <td>3</td>\n",
       "      <td>1</td>\n",
       "    </tr>\n",
       "    <tr>\n",
       "      <th>3</th>\n",
       "      <td>4</td>\n",
       "      <td>4</td>\n",
       "      <td>1</td>\n",
       "      <td>1</td>\n",
       "      <td>2</td>\n",
       "      <td>1</td>\n",
       "      <td>1</td>\n",
       "    </tr>\n",
       "    <tr>\n",
       "      <th>4</th>\n",
       "      <td>4</td>\n",
       "      <td>4</td>\n",
       "      <td>1</td>\n",
       "      <td>1</td>\n",
       "      <td>2</td>\n",
       "      <td>2</td>\n",
       "      <td>1</td>\n",
       "    </tr>\n",
       "  </tbody>\n",
       "</table>\n",
       "</div>"
      ],
      "text/plain": [
       "   buying  maint  doors  persons  lug_boot  safety  evaluation\n",
       "0       4      4      1        1         1       1           1\n",
       "1       4      4      1        1         1       2           1\n",
       "2       4      4      1        1         1       3           1\n",
       "3       4      4      1        1         2       1           1\n",
       "4       4      4      1        1         2       2           1"
      ]
     },
     "execution_count": 46,
     "metadata": {},
     "output_type": "execute_result"
    }
   ],
   "source": [
    "import warnings\n",
    "warnings.filterwarnings(\"ignore\")\n",
    "mapping = {\n",
    "    \n",
    "    'm_buying_and_maint' : {\n",
    "        # For 'buying' & 'maint' columns.\n",
    "        'low': 1,\n",
    "        'med': 2,\n",
    "        'high': 3,\n",
    "        'vhigh': 4,\n",
    "    },\n",
    "    \n",
    "    'm_doors' : {\n",
    "        # For 'doors' columns.\n",
    "        '2': 1,\n",
    "        '3': 2,\n",
    "        '4': 3,\n",
    "        '5more': 4,\n",
    "    },\n",
    "    \n",
    "    'm_persons' : {\n",
    "        # For 'persons' columns.\n",
    "        '2': 1,\n",
    "        '4': 2,\n",
    "        'more': 3,\n",
    "    },\n",
    "    \n",
    "    'm_lug_boot' : {\n",
    "        # For 'lug_boot' column.\n",
    "        'small': 1,\n",
    "        'med': 2,\n",
    "        'big': 3,\n",
    "    },\n",
    "    \n",
    "    'm_safety' : {\n",
    "        # For 'safety' column.\n",
    "        'low': 1,\n",
    "        'med': 2,\n",
    "        'high': 3,\n",
    "    },\n",
    "    \n",
    "    'm_evaluation' : {\n",
    "        # For 'evaluation' column.\n",
    "        'unacc': 1,\n",
    "        'acc': 2,\n",
    "        'good': 3,\n",
    "        'vgood': 4\n",
    "    }\n",
    "}\n",
    "\n",
    "df_encoded = df\n",
    "\n",
    "df_encoded['buying'] = df['buying'].replace(mapping['m_buying_and_maint'])\n",
    "df_encoded['maint'] = df['maint'].replace(mapping['m_buying_and_maint'])\n",
    "df_encoded['doors'] = df['doors'].replace(mapping['m_doors'])\n",
    "df_encoded['persons'] = df['persons'].replace(mapping['m_persons'])\n",
    "df_encoded['lug_boot'] = df['lug_boot'].replace(mapping['m_lug_boot'])\n",
    "df_encoded['safety'] = df['safety'].replace(mapping['m_safety'])\n",
    "df_encoded['evaluation'] = df['evaluation'].replace(mapping['m_evaluation'])\n",
    "\n",
    "df_encoded.head()"
   ]
  },
  {
   "cell_type": "code",
   "execution_count": 47,
   "metadata": {},
   "outputs": [
    {
     "data": {
      "text/plain": [
       "[Text(0.5, 1.0, 'Number of cars per evaluation')]"
      ]
     },
     "execution_count": 47,
     "metadata": {},
     "output_type": "execute_result"
    },
    {
     "data": {
      "image/png": "[encoded data removed]",
      "text/plain": [
       "<Figure size 1000x500 with 1 Axes>"
      ]
     },
     "metadata": {},
     "output_type": "display_data"
    }
   ],
   "source": [
    "plt.figure(figsize=(10,5))\n",
    "sns.countplot(data=df_encoded, x='evaluation', palette='Set1', alpha=0.8).set(title = 'Number of cars per evaluation')"
   ]
  },
  {
   "cell_type": "code",
   "execution_count": 48,
   "metadata": {},
   "outputs": [
    {
     "name": "stdout",
     "output_type": "stream",
     "text": [
      "Counter({1: 1210, 2: 384, 3: 69, 4: 65})\n"
     ]
    }
   ],
   "source": [
    "print(Counter(df_encoded['evaluation']))\n"
   ]
  },
  {
   "cell_type": "code",
   "execution_count": 49,
   "metadata": {},
   "outputs": [],
   "source": [
    "# The best and the worst evaluated cars.\n",
    "highest = df_encoded[df_encoded['evaluation'] == 4]\n",
    "lowest = df_encoded[df_encoded['evaluation'] == 1]"
   ]
  },
  {
   "cell_type": "code",
   "execution_count": 50,
   "metadata": {},
   "outputs": [
    {
     "data": {
      "image/png": "[encoded data removed]",
      "text/plain": [
       "<Figure size 1300x400 with 2 Axes>"
      ]
     },
     "metadata": {},
     "output_type": "display_data"
    }
   ],
   "source": [
    "# What are the worst and best cars according to purchase price?\n",
    "fig, axes = plt.subplots(nrows=1, ncols=2, figsize=(13,4))\n",
    "\n",
    "axes[0].set_title('Best rated cars with respect to purchase price')\n",
    "sns.countplot(ax=axes[0], data=highest, x='buying', palette='Set1', alpha=0.9)\n",
    "\n",
    "axes[1].set_title('Worst rated cars with respect to purchase price')\n",
    "sns.countplot(ax=axes[1], data=lowest, x='buying', palette='Set1', alpha=0.9)\n",
    "\n",
    "plt.tight_layout()"
   ]
  },
  {
   "cell_type": "code",
   "execution_count": 51,
   "metadata": {},
   "outputs": [
    {
     "data": {
      "image/png": "[encoded data removed]",
      "text/plain": [
       "<Figure size 1300x400 with 2 Axes>"
      ]
     },
     "metadata": {},
     "output_type": "display_data"
    }
   ],
   "source": [
    "# What are the worst and best cars according to maintenance cost?\n",
    "fig, axes = plt.subplots(nrows=1, ncols=2, figsize=(13,4))\n",
    "\n",
    "axes[0].set_title('Best rated cars with respect to maintenance cost')\n",
    "sns.countplot(ax=axes[0], data=highest, x='maint', palette='Set1', alpha=0.9)\n",
    "\n",
    "axes[1].set_title('Worst rated cars with respect to maintenance cost')\n",
    "sns.countplot(ax=axes[1], data=lowest, x='maint', palette='Set1', alpha=0.9)\n",
    "\n",
    "plt.tight_layout()"
   ]
  },
  {
   "cell_type": "code",
   "execution_count": 52,
   "metadata": {},
   "outputs": [
    {
     "data": {
      "image/png": "[encoded data removed]",
      "text/plain": [
       "<Figure size 1300x400 with 2 Axes>"
      ]
     },
     "metadata": {},
     "output_type": "display_data"
    }
   ],
   "source": [
    "# What are the worst and best cars based on the number of doors?\n",
    "fig, axes = plt.subplots(nrows=1, ncols=2, figsize=(13,4))\n",
    "\n",
    "axes[0].set_title('Best rated cars with respect to the number of doors')\n",
    "sns.countplot(ax=axes[0], data=highest, x='doors', palette='Set1', alpha=0.9)\n",
    "\n",
    "axes[1].set_title('Worst rated cars with respect to the number of doors')\n",
    "sns.countplot(ax=axes[1], data=lowest, x='doors', palette='Set1', alpha=0.9)\n",
    "\n",
    "plt.tight_layout()"
   ]
  },
  {
   "cell_type": "code",
   "execution_count": 53,
   "metadata": {},
   "outputs": [
    {
     "data": {
      "image/png": "[encoded data removed]",
      "text/plain": [
       "<Figure size 1300x400 with 2 Axes>"
      ]
     },
     "metadata": {},
     "output_type": "display_data"
    }
   ],
   "source": [
    "# What are the worst and best cars based on the number of people they hold?\n",
    "fig, axes = plt.subplots(nrows=1, ncols=2, figsize=(13,4))\n",
    "\n",
    "axes[0].set_title('Best rated cars with respect to the number of people they hold')\n",
    "sns.countplot(ax=axes[0], data=highest, x='persons', palette='Set1', alpha=0.9)\n",
    "\n",
    "axes[1].set_title('Worst rated cars with respect to the number of people they hold')\n",
    "sns.countplot(ax=axes[1], data=lowest, x='persons', palette='Set1', alpha=0.9)\n",
    "\n",
    "plt.tight_layout()"
   ]
  },
  {
   "cell_type": "code",
   "execution_count": 54,
   "metadata": {},
   "outputs": [
    {
     "data": {
      "image/png": "[encoded data removed]",
      "text/plain": [
       "<Figure size 1300x400 with 2 Axes>"
      ]
     },
     "metadata": {},
     "output_type": "display_data"
    }
   ],
   "source": [
    "# What are the worst and best cars based on how much luggage can fit?\n",
    "fig, axes = plt.subplots(nrows=1, ncols=2, figsize=(13,4))\n",
    "\n",
    "axes[0].set_title('Best rated cars with respect to how much luggage can fit')\n",
    "sns.countplot(ax=axes[0], data=highest, x='lug_boot', palette='Set1', alpha=0.9)\n",
    "\n",
    "axes[1].set_title('Worst rated cars with respect to how much luggage can fit')\n",
    "sns.countplot(ax=axes[1], data=lowest, x='lug_boot', palette='Set1', alpha=0.9)\n",
    "\n",
    "plt.tight_layout()"
   ]
  },
  {
   "cell_type": "code",
   "execution_count": 55,
   "metadata": {},
   "outputs": [
    {
     "data": {
      "image/png": "[encoded data removed]",
      "text/plain": [
       "<Figure size 1000x800 with 2 Axes>"
      ]
     },
     "metadata": {},
     "output_type": "display_data"
    }
   ],
   "source": [
    "plt.figure(figsize=(10, 8))\n",
    "sns.heatmap(df_encoded.corr(), annot=True, cmap='coolwarm', fmt=\".2f\")\n",
    "plt.title('Correlation Matrix')\n",
    "plt.show()"
   ]
  },
  {
   "cell_type": "code",
   "execution_count": 56,
   "metadata": {},
   "outputs": [
    {
     "name": "stdout",
     "output_type": "stream",
     "text": [
      "Total of labels: 4840\n",
      "Counter({1: 1210, 2: 1210, 4: 1210, 3: 1210})\n"
     ]
    }
   ],
   "source": [
    "x = df_encoded.drop(['evaluation'], axis=1)\n",
    "y = df_encoded['evaluation']\n",
    "\n",
    "s = SMOTE(k_neighbors=2)\n",
    "x, y = s.fit_resample(x, y)\n",
    "\n",
    "print(f'Total of labels: {len(y)}')\n",
    "print(Counter(y))"
   ]
  },
  {
   "cell_type": "code",
   "execution_count": 57,
   "metadata": {},
   "outputs": [
    {
     "name": "stdout",
     "output_type": "stream",
     "text": [
      "Shape of x: (4840, 6)\n",
      "Shape of y: (4840,)\n",
      "Shape of x_train: (3242, 6)\n",
      "Shape of x_test: (1598, 6)\n",
      "Shape of y_train: (3242,)\n",
      "Shape of y_test: (1598,)\n"
     ]
    }
   ],
   "source": [
    "x_train, x_test, y_train, y_test = tts(x, y, test_size=0.33, random_state=101)\n",
    "\n",
    "print(\"Shape of x:\", x.shape)\n",
    "print(\"Shape of y:\", y.shape)\n",
    "print(\"Shape of x_train:\", x_train.shape)\n",
    "print(\"Shape of x_test:\", x_test.shape)\n",
    "print(\"Shape of y_train:\", y_train.shape)\n",
    "print(\"Shape of y_test:\", y_test.shape)"
   ]
  },
  {
   "cell_type": "code",
   "execution_count": 32,
   "metadata": {},
   "outputs": [
    {
     "name": "stdout",
     "output_type": "stream",
     "text": [
      "bootstrap: True\n",
      "ccp_alpha: 0.0\n",
      "class_weight: None\n",
      "criterion: gini\n",
      "max_depth: None\n",
      "max_features: sqrt\n",
      "max_leaf_nodes: None\n",
      "max_samples: None\n",
      "min_impurity_decrease: 0.0\n",
      "min_samples_leaf: 1\n",
      "min_samples_split: 2\n",
      "min_weight_fraction_leaf: 0.0\n",
      "n_estimators: 100\n",
      "n_jobs: None\n",
      "oob_score: False\n",
      "random_state: 42\n",
      "verbose: 0\n",
      "warm_start: False\n"
     ]
    }
   ],
   "source": [
    "# Initialize and train the Random Forest model\n",
    "rf_classifier = RandomForestClassifier(random_state=42)\n",
    "\n",
    "# Obtener los hiperparámetros del modelo\n",
    "params = rf_classifier.get_params()\n",
    "\n",
    "# Mostrar los hiperparámetros y sus valores actuales\n",
    "for param, value in params.items():\n",
    "    print(f'{param}: {value}')"
   ]
  },
  {
   "cell_type": "code",
   "execution_count": 58,
   "metadata": {},
   "outputs": [
    {
     "data": {
      "text/html": [
       "<style>#sk-container-id-2 {color: black;background-color: white;}#sk-container-id-2 pre{padding: 0;}#sk-container-id-2 div.sk-toggleable {background-color: white;}#sk-container-id-2 label.sk-toggleable__label {cursor: pointer;display: block;width: 100%;margin-bottom: 0;padding: 0.3em;box-sizing: border-box;text-align: center;}#sk-container-id-2 label.sk-toggleable__label-arrow:before {content: \"▸\";float: left;margin-right: 0.25em;color: #696969;}#sk-container-id-2 label.sk-toggleable__label-arrow:hover:before {color: black;}#sk-container-id-2 div.sk-estimator:hover label.sk-toggleable__label-arrow:before {color: black;}#sk-container-id-2 div.sk-toggleable__content {max-height: 0;max-width: 0;overflow: hidden;text-align: left;background-color: #f0f8ff;}#sk-container-id-2 div.sk-toggleable__content pre {margin: 0.2em;color: black;border-radius: 0.25em;background-color: #f0f8ff;}#sk-container-id-2 input.sk-toggleable__control:checked~div.sk-toggleable__content {max-height: 200px;max-width: 100%;overflow: auto;}#sk-container-id-2 input.sk-toggleable__control:checked~label.sk-toggleable__label-arrow:before {content: \"▾\";}#sk-container-id-2 div.sk-estimator input.sk-toggleable__control:checked~label.sk-toggleable__label {background-color: #d4ebff;}#sk-container-id-2 div.sk-label input.sk-toggleable__control:checked~label.sk-toggleable__label {background-color: #d4ebff;}#sk-container-id-2 input.sk-hidden--visually {border: 0;clip: rect(1px 1px 1px 1px);clip: rect(1px, 1px, 1px, 1px);height: 1px;margin: -1px;overflow: hidden;padding: 0;position: absolute;width: 1px;}#sk-container-id-2 div.sk-estimator {font-family: monospace;background-color: #f0f8ff;border: 1px dotted black;border-radius: 0.25em;box-sizing: border-box;margin-bottom: 0.5em;}#sk-container-id-2 div.sk-estimator:hover {background-color: #d4ebff;}#sk-container-id-2 div.sk-parallel-item::after {content: \"\";width: 100%;border-bottom: 1px solid gray;flex-grow: 1;}#sk-container-id-2 div.sk-label:hover label.sk-toggleable__label {background-color: #d4ebff;}#sk-container-id-2 div.sk-serial::before {content: \"\";position: absolute;border-left: 1px solid gray;box-sizing: border-box;top: 0;bottom: 0;left: 50%;z-index: 0;}#sk-container-id-2 div.sk-serial {display: flex;flex-direction: column;align-items: center;background-color: white;padding-right: 0.2em;padding-left: 0.2em;position: relative;}#sk-container-id-2 div.sk-item {position: relative;z-index: 1;}#sk-container-id-2 div.sk-parallel {display: flex;align-items: stretch;justify-content: center;background-color: white;position: relative;}#sk-container-id-2 div.sk-item::before, #sk-container-id-2 div.sk-parallel-item::before {content: \"\";position: absolute;border-left: 1px solid gray;box-sizing: border-box;top: 0;bottom: 0;left: 50%;z-index: -1;}#sk-container-id-2 div.sk-parallel-item {display: flex;flex-direction: column;z-index: 1;position: relative;background-color: white;}#sk-container-id-2 div.sk-parallel-item:first-child::after {align-self: flex-end;width: 50%;}#sk-container-id-2 div.sk-parallel-item:last-child::after {align-self: flex-start;width: 50%;}#sk-container-id-2 div.sk-parallel-item:only-child::after {width: 0;}#sk-container-id-2 div.sk-dashed-wrapped {border: 1px dashed gray;margin: 0 0.4em 0.5em 0.4em;box-sizing: border-box;padding-bottom: 0.4em;background-color: white;}#sk-container-id-2 div.sk-label label {font-family: monospace;font-weight: bold;display: inline-block;line-height: 1.2em;}#sk-container-id-2 div.sk-label-container {text-align: center;}#sk-container-id-2 div.sk-container {/* jupyter's `normalize.less` sets `[hidden] { display: none; }` but bootstrap.min.css set `[hidden] { display: none !important; }` so we also need the `!important` here to be able to override the default hidden behavior on the sphinx rendered scikit-learn.org. See: https://github.com/scikit-learn/scikit-learn/issues/21755 */display: inline-block !important;position: relative;}#sk-container-id-2 div.sk-text-repr-fallback {display: none;}</style><div id=\"sk-container-id-2\" class=\"sk-top-container\"><div class=\"sk-text-repr-fallback\"><pre>RandomForestClassifier(random_state=101)</pre><b>In a Jupyter environment, please rerun this cell to show the HTML representation or trust the notebook. <br />On GitHub, the HTML representation is unable to render, please try loading this page with nbviewer.org.</b></div><div class=\"sk-container\" hidden><div class=\"sk-item\"><div class=\"sk-estimator sk-toggleable\"><input class=\"sk-toggleable__control sk-hidden--visually\" id=\"sk-estimator-id-2\" type=\"checkbox\" checked><label for=\"sk-estimator-id-2\" class=\"sk-toggleable__label sk-toggleable__label-arrow\">RandomForestClassifier</label><div class=\"sk-toggleable__content\"><pre>RandomForestClassifier(random_state=101)</pre></div></div></div></div></div>"
      ],
      "text/plain": [
       "RandomForestClassifier(random_state=101)"
      ]
     },
     "execution_count": 58,
     "metadata": {},
     "output_type": "execute_result"
    }
   ],
   "source": [
    "model = RandomForestClassifier(n_estimators=100, random_state=101)\n",
    "model.fit(x_train, y_train)"
   ]
  },
  {
   "cell_type": "code",
   "execution_count": 59,
   "metadata": {},
   "outputs": [
    {
     "data": {
      "text/plain": [
       "array([1, 1, 3, ..., 2, 1, 2], dtype=int64)"
      ]
     },
     "execution_count": 59,
     "metadata": {},
     "output_type": "execute_result"
    }
   ],
   "source": [
    "model.predict(x_test)"
   ]
  },
  {
   "cell_type": "code",
   "execution_count": 61,
   "metadata": {},
   "outputs": [
    {
     "data": {
      "text/plain": [
       "array([2], dtype=int64)"
      ]
     },
     "execution_count": 61,
     "metadata": {},
     "output_type": "execute_result"
    }
   ],
   "source": [
    "model.predict([[3,2,1,2,1,3]])"
   ]
  },
  {
   "cell_type": "code",
   "execution_count": null,
   "metadata": {},
   "outputs": [],
   "source": []
  },
  {
   "cell_type": "code",
   "execution_count": 33,
   "metadata": {},
   "outputs": [
    {
     "name": "stdout",
     "output_type": "stream",
     "text": [
      "Fitting 5 folds for each of 18 candidates, totalling 90 fits\n",
      "[CV 1/5] END criterion=gini, max_features=sqrt, n_estimators=100;, score=0.991 total time=   0.1s\n",
      "[CV 2/5] END criterion=gini, max_features=sqrt, n_estimators=100;, score=0.995 total time=   0.1s\n",
      "[CV 3/5] END criterion=gini, max_features=sqrt, n_estimators=100;, score=0.995 total time=   0.1s\n",
      "[CV 4/5] END criterion=gini, max_features=sqrt, n_estimators=100;, score=0.991 total time=   0.1s\n",
      "[CV 5/5] END criterion=gini, max_features=sqrt, n_estimators=100;, score=0.991 total time=   0.1s\n",
      "[CV 1/5] END criterion=gini, max_features=sqrt, n_estimators=1000;, score=0.991 total time=   1.8s\n",
      "[CV 2/5] END criterion=gini, max_features=sqrt, n_estimators=1000;, score=0.995 total time=   1.7s\n",
      "[CV 3/5] END criterion=gini, max_features=sqrt, n_estimators=1000;, score=0.994 total time=   1.7s\n",
      "[CV 4/5] END criterion=gini, max_features=sqrt, n_estimators=1000;, score=0.989 total time=   1.7s\n",
      "[CV 5/5] END criterion=gini, max_features=sqrt, n_estimators=1000;, score=0.991 total time=   1.7s\n",
      "[CV 1/5] END criterion=gini, max_features=sqrt, n_estimators=10000;, score=0.991 total time=  17.8s\n",
      "[CV 2/5] END criterion=gini, max_features=sqrt, n_estimators=10000;, score=0.995 total time=  17.7s\n",
      "[CV 3/5] END criterion=gini, max_features=sqrt, n_estimators=10000;, score=0.994 total time=  18.4s\n",
      "[CV 4/5] END criterion=gini, max_features=sqrt, n_estimators=10000;, score=0.991 total time=  17.8s\n",
      "[CV 5/5] END criterion=gini, max_features=sqrt, n_estimators=10000;, score=0.989 total time=  18.1s\n",
      "[CV 1/5] END criterion=gini, max_features=log2, n_estimators=100;, score=0.991 total time=   0.1s\n",
      "[CV 2/5] END criterion=gini, max_features=log2, n_estimators=100;, score=0.995 total time=   0.1s\n",
      "[CV 3/5] END criterion=gini, max_features=log2, n_estimators=100;, score=0.995 total time=   0.1s\n",
      "[CV 4/5] END criterion=gini, max_features=log2, n_estimators=100;, score=0.991 total time=   0.1s\n",
      "[CV 5/5] END criterion=gini, max_features=log2, n_estimators=100;, score=0.991 total time=   0.1s\n",
      "[CV 1/5] END criterion=gini, max_features=log2, n_estimators=1000;, score=0.991 total time=   1.8s\n",
      "[CV 2/5] END criterion=gini, max_features=log2, n_estimators=1000;, score=0.995 total time=   1.7s\n",
      "[CV 3/5] END criterion=gini, max_features=log2, n_estimators=1000;, score=0.994 total time=   1.7s\n",
      "[CV 4/5] END criterion=gini, max_features=log2, n_estimators=1000;, score=0.989 total time=   1.7s\n",
      "[CV 5/5] END criterion=gini, max_features=log2, n_estimators=1000;, score=0.991 total time=   1.7s\n",
      "[CV 1/5] END criterion=gini, max_features=log2, n_estimators=10000;, score=0.991 total time=  19.1s\n",
      "[CV 2/5] END criterion=gini, max_features=log2, n_estimators=10000;, score=0.995 total time=  17.9s\n",
      "[CV 3/5] END criterion=gini, max_features=log2, n_estimators=10000;, score=0.994 total time=  18.1s\n",
      "[CV 4/5] END criterion=gini, max_features=log2, n_estimators=10000;, score=0.991 total time=  18.3s\n",
      "[CV 5/5] END criterion=gini, max_features=log2, n_estimators=10000;, score=0.989 total time=  19.3s\n",
      "[CV 1/5] END criterion=entropy, max_features=sqrt, n_estimators=100;, score=0.992 total time=   0.1s\n",
      "[CV 2/5] END criterion=entropy, max_features=sqrt, n_estimators=100;, score=0.995 total time=   0.1s\n",
      "[CV 3/5] END criterion=entropy, max_features=sqrt, n_estimators=100;, score=0.992 total time=   0.1s\n",
      "[CV 4/5] END criterion=entropy, max_features=sqrt, n_estimators=100;, score=0.989 total time=   0.1s\n",
      "[CV 5/5] END criterion=entropy, max_features=sqrt, n_estimators=100;, score=0.991 total time=   0.1s\n",
      "[CV 1/5] END criterion=entropy, max_features=sqrt, n_estimators=1000;, score=0.991 total time=   1.8s\n",
      "[CV 2/5] END criterion=entropy, max_features=sqrt, n_estimators=1000;, score=0.995 total time=   1.9s\n",
      "[CV 3/5] END criterion=entropy, max_features=sqrt, n_estimators=1000;, score=0.991 total time=   1.9s\n",
      "[CV 4/5] END criterion=entropy, max_features=sqrt, n_estimators=1000;, score=0.991 total time=   1.9s\n",
      "[CV 5/5] END criterion=entropy, max_features=sqrt, n_estimators=1000;, score=0.992 total time=   2.0s\n",
      "[CV 1/5] END criterion=entropy, max_features=sqrt, n_estimators=10000;, score=0.991 total time=  19.6s\n",
      "[CV 2/5] END criterion=entropy, max_features=sqrt, n_estimators=10000;, score=0.995 total time=  18.7s\n",
      "[CV 3/5] END criterion=entropy, max_features=sqrt, n_estimators=10000;, score=0.992 total time=  19.4s\n",
      "[CV 4/5] END criterion=entropy, max_features=sqrt, n_estimators=10000;, score=0.991 total time=  18.3s\n",
      "[CV 5/5] END criterion=entropy, max_features=sqrt, n_estimators=10000;, score=0.992 total time=  18.5s\n",
      "[CV 1/5] END criterion=entropy, max_features=log2, n_estimators=100;, score=0.992 total time=   0.1s\n",
      "[CV 2/5] END criterion=entropy, max_features=log2, n_estimators=100;, score=0.995 total time=   0.1s\n",
      "[CV 3/5] END criterion=entropy, max_features=log2, n_estimators=100;, score=0.992 total time=   0.1s\n",
      "[CV 4/5] END criterion=entropy, max_features=log2, n_estimators=100;, score=0.989 total time=   0.1s\n",
      "[CV 5/5] END criterion=entropy, max_features=log2, n_estimators=100;, score=0.991 total time=   0.1s\n",
      "[CV 1/5] END criterion=entropy, max_features=log2, n_estimators=1000;, score=0.991 total time=   1.7s\n",
      "[CV 2/5] END criterion=entropy, max_features=log2, n_estimators=1000;, score=0.995 total time=   1.7s\n",
      "[CV 3/5] END criterion=entropy, max_features=log2, n_estimators=1000;, score=0.991 total time=   1.7s\n",
      "[CV 4/5] END criterion=entropy, max_features=log2, n_estimators=1000;, score=0.991 total time=   1.9s\n",
      "[CV 5/5] END criterion=entropy, max_features=log2, n_estimators=1000;, score=0.992 total time=   1.9s\n",
      "[CV 1/5] END criterion=entropy, max_features=log2, n_estimators=10000;, score=0.991 total time=  19.6s\n",
      "[CV 2/5] END criterion=entropy, max_features=log2, n_estimators=10000;, score=0.995 total time=  18.8s\n",
      "[CV 3/5] END criterion=entropy, max_features=log2, n_estimators=10000;, score=0.992 total time=  19.3s\n",
      "[CV 4/5] END criterion=entropy, max_features=log2, n_estimators=10000;, score=0.991 total time=  20.0s\n",
      "[CV 5/5] END criterion=entropy, max_features=log2, n_estimators=10000;, score=0.992 total time=  19.1s\n",
      "[CV 1/5] END criterion=log_loss, max_features=sqrt, n_estimators=100;, score=0.992 total time=   0.1s\n",
      "[CV 2/5] END criterion=log_loss, max_features=sqrt, n_estimators=100;, score=0.995 total time=   0.1s\n",
      "[CV 3/5] END criterion=log_loss, max_features=sqrt, n_estimators=100;, score=0.992 total time=   0.1s\n",
      "[CV 4/5] END criterion=log_loss, max_features=sqrt, n_estimators=100;, score=0.989 total time=   0.1s\n",
      "[CV 5/5] END criterion=log_loss, max_features=sqrt, n_estimators=100;, score=0.991 total time=   0.1s\n",
      "[CV 1/5] END criterion=log_loss, max_features=sqrt, n_estimators=1000;, score=0.991 total time=   1.7s\n",
      "[CV 2/5] END criterion=log_loss, max_features=sqrt, n_estimators=1000;, score=0.995 total time=   1.7s\n",
      "[CV 3/5] END criterion=log_loss, max_features=sqrt, n_estimators=1000;, score=0.991 total time=   1.7s\n",
      "[CV 4/5] END criterion=log_loss, max_features=sqrt, n_estimators=1000;, score=0.991 total time=   1.8s\n",
      "[CV 5/5] END criterion=log_loss, max_features=sqrt, n_estimators=1000;, score=0.992 total time=   1.8s\n",
      "[CV 1/5] END criterion=log_loss, max_features=sqrt, n_estimators=10000;, score=0.991 total time=  19.3s\n",
      "[CV 2/5] END criterion=log_loss, max_features=sqrt, n_estimators=10000;, score=0.995 total time=  18.8s\n",
      "[CV 3/5] END criterion=log_loss, max_features=sqrt, n_estimators=10000;, score=0.992 total time=  18.5s\n",
      "[CV 4/5] END criterion=log_loss, max_features=sqrt, n_estimators=10000;, score=0.991 total time=  17.8s\n",
      "[CV 5/5] END criterion=log_loss, max_features=sqrt, n_estimators=10000;, score=0.992 total time=  18.4s\n",
      "[CV 1/5] END criterion=log_loss, max_features=log2, n_estimators=100;, score=0.992 total time=   0.1s\n",
      "[CV 2/5] END criterion=log_loss, max_features=log2, n_estimators=100;, score=0.995 total time=   0.1s\n",
      "[CV 3/5] END criterion=log_loss, max_features=log2, n_estimators=100;, score=0.992 total time=   0.1s\n",
      "[CV 4/5] END criterion=log_loss, max_features=log2, n_estimators=100;, score=0.989 total time=   0.1s\n",
      "[CV 5/5] END criterion=log_loss, max_features=log2, n_estimators=100;, score=0.991 total time=   0.1s\n",
      "[CV 1/5] END criterion=log_loss, max_features=log2, n_estimators=1000;, score=0.991 total time=   1.9s\n",
      "[CV 2/5] END criterion=log_loss, max_features=log2, n_estimators=1000;, score=0.995 total time=   1.9s\n",
      "[CV 3/5] END criterion=log_loss, max_features=log2, n_estimators=1000;, score=0.991 total time=   1.7s\n",
      "[CV 4/5] END criterion=log_loss, max_features=log2, n_estimators=1000;, score=0.991 total time=   1.7s\n",
      "[CV 5/5] END criterion=log_loss, max_features=log2, n_estimators=1000;, score=0.992 total time=   1.6s\n",
      "[CV 1/5] END criterion=log_loss, max_features=log2, n_estimators=10000;, score=0.991 total time=  18.7s\n",
      "[CV 2/5] END criterion=log_loss, max_features=log2, n_estimators=10000;, score=0.995 total time=  17.7s\n",
      "[CV 3/5] END criterion=log_loss, max_features=log2, n_estimators=10000;, score=0.992 total time=  17.8s\n",
      "[CV 4/5] END criterion=log_loss, max_features=log2, n_estimators=10000;, score=0.991 total time=  19.9s\n",
      "[CV 5/5] END criterion=log_loss, max_features=log2, n_estimators=10000;, score=0.992 total time=  19.3s\n",
      "\n",
      "\n",
      "Grid search elapsed time: 627.0285663604736 seconds\n"
     ]
    }
   ],
   "source": [
    "# Gridserch criteria\n",
    "param_grid = {'criterion': ['gini', 'entropy', 'log_loss'],\n",
    "              'max_features': ['sqrt', 'log2'],\n",
    "              'n_estimators': [100, 1000, 10000], \n",
    "              }\n",
    "\n",
    "start = time.time()\n",
    "\n",
    "# Gridsearch\n",
    "grid = GSCV(rf_classifier, param_grid, refit=True, verbose=3)\n",
    "\n",
    "grid.fit(x_train, y_train)\n",
    "\n",
    "end = time.time()\n",
    "elapsed_time = end - start\n",
    "\n",
    "print('\\n')\n",
    "print(f\"Grid search elapsed time: {elapsed_time} seconds\")"
   ]
  },
  {
   "cell_type": "code",
   "execution_count": 34,
   "metadata": {},
   "outputs": [
    {
     "name": "stdout",
     "output_type": "stream",
     "text": [
      "Random Forest Model\n",
      "Best param in \"criterion\":  gini\n",
      "Best param in \"max_features\":  sqrt\n",
      "Best param in \"n_estimators\":  100 \n",
      "\n"
     ]
    }
   ],
   "source": [
    "print('Random Forest Model')\n",
    "print('Best param in \"criterion\": ', grid.best_params_['criterion'])\n",
    "print('Best param in \"max_features\": ', grid.best_params_['max_features'])\n",
    "print('Best param in \"n_estimators\": ', grid.best_params_['n_estimators'], '\\n')"
   ]
  },
  {
   "cell_type": "code",
   "execution_count": 62,
   "metadata": {},
   "outputs": [
    {
     "name": "stdout",
     "output_type": "stream",
     "text": [
      "Counter({1: 407, 2: 402, 4: 401, 3: 388})\n"
     ]
    }
   ],
   "source": [
    "predictions = model.predict(x_test)\n",
    "\n",
    "print(Counter(predictions))"
   ]
  },
  {
   "cell_type": "code",
   "execution_count": 63,
   "metadata": {},
   "outputs": [
    {
     "data": {
      "text/plain": [
       "[Text(0.5, 1.0, 'Number of cars per evaluation')]"
      ]
     },
     "execution_count": 63,
     "metadata": {},
     "output_type": "execute_result"
    },
    {
     "data": {
      "image/png": "[encoded data removed]",
      "text/plain": [
       "<Figure size 1000x500 with 1 Axes>"
      ]
     },
     "metadata": {},
     "output_type": "display_data"
    }
   ],
   "source": [
    "# Convertir el array de NumPy a un DataFrame de pandas\n",
    "df_pred = pd.DataFrame(predictions, columns=['values'])\n",
    "\n",
    "# Crear el count plot usando seaborn\n",
    "plt.figure(figsize=(10,5))\n",
    "sns.countplot(data=df_pred, x='values', palette='Set1', alpha=0.8).set(title = 'Number of cars per evaluation')"
   ]
  },
  {
   "cell_type": "code",
   "execution_count": 64,
   "metadata": {},
   "outputs": [
    {
     "name": "stdout",
     "output_type": "stream",
     "text": [
      "              precision    recall  f1-score   support\n",
      "\n",
      "           1       1.00      0.97      0.99       419\n",
      "           2       0.97      1.00      0.99       391\n",
      "           3       1.00      1.00      1.00       387\n",
      "           4       1.00      1.00      1.00       401\n",
      "\n",
      "    accuracy                           0.99      1598\n",
      "   macro avg       0.99      0.99      0.99      1598\n",
      "weighted avg       0.99      0.99      0.99      1598\n",
      "\n"
     ]
    }
   ],
   "source": [
    "print(cr(y_test, predictions))\n"
   ]
  },
  {
   "cell_type": "code",
   "execution_count": 65,
   "metadata": {},
   "outputs": [
    {
     "name": "stdout",
     "output_type": "stream",
     "text": [
      "Model Accuracy: 99.25%\n"
     ]
    },
    {
     "data": {
      "image/png": "[encoded data removed]",
      "text/plain": [
       "<Figure size 640x480 with 2 Axes>"
      ]
     },
     "metadata": {},
     "output_type": "display_data"
    }
   ],
   "source": [
    "print(f'Model Accuracy: {round(accuracy_score(y_test , predictions)*100, 2)}%')\n",
    "\n",
    "# Visualize the confusion matrix with seaborn\n",
    "sns.heatmap(cm(y_test, predictions), annot=True, cmap='Blues', fmt='d')\n",
    "plt.xlabel('Predicted')\n",
    "plt.ylabel('True')\n",
    "plt.title('Confusion Matrix')\n",
    "plt.show()"
   ]
  },
  {
   "cell_type": "code",
   "execution_count": 73,
   "metadata": {},
   "outputs": [
    {
     "data": {
      "text/plain": [
       "[array([1, 1, 2, 3, 1, 3], dtype=int64)]"
      ]
     },
     "execution_count": 73,
     "metadata": {},
     "output_type": "execute_result"
    }
   ],
   "source": [
    "[x_test.iloc[21].values]"
   ]
  },
  {
   "cell_type": "code",
   "execution_count": 74,
   "metadata": {},
   "outputs": [
    {
     "data": {
      "text/plain": [
       "3"
      ]
     },
     "execution_count": 74,
     "metadata": {},
     "output_type": "execute_result"
    }
   ],
   "source": [
    "y_test.iloc[21]"
   ]
  },
  {
   "cell_type": "code",
   "execution_count": 29,
   "metadata": {},
   "outputs": [
    {
     "ename": "NameError",
     "evalue": "name 'grid' is not defined",
     "output_type": "error",
     "traceback": [
      "\u001b[1;31m---------------------------------------------------------------------------\u001b[0m",
      "\u001b[1;31mNameError\u001b[0m                                 Traceback (most recent call last)",
      "Cell \u001b[1;32mIn[29], line 1\u001b[0m\n\u001b[1;32m----> 1\u001b[0m grid\u001b[38;5;241m.\u001b[39mpredict([x_test\u001b[38;5;241m.\u001b[39miloc[\u001b[38;5;241m0\u001b[39m]\u001b[38;5;241m.\u001b[39mvalues])\n",
      "\u001b[1;31mNameError\u001b[0m: name 'grid' is not defined"
     ]
    }
   ],
   "source": [
    "grid.predict([x_test.iloc[0].values])"
   ]
  },
  {
   "cell_type": "code",
   "execution_count": 30,
   "metadata": {},
   "outputs": [
    {
     "data": {
      "text/plain": [
       "1"
      ]
     },
     "execution_count": 30,
     "metadata": {},
     "output_type": "execute_result"
    }
   ],
   "source": [
    "y_test[0]"
   ]
  },
  {
   "cell_type": "code",
   "execution_count": 31,
   "metadata": {},
   "outputs": [],
   "source": [
    "# Save the model and the scaler\n",
    "import pickle\n",
    "with open('ML_classification.pkl', 'wb') as model_file:\n",
    "    pickle.dump(model, model_file)"
   ]
  },
  {
   "cell_type": "code",
   "execution_count": 32,
   "metadata": {},
   "outputs": [
    {
     "data": {
      "text/html": [
       "<div>\n",
       "<style scoped>\n",
       "    .dataframe tbody tr th:only-of-type {\n",
       "        vertical-align: middle;\n",
       "    }\n",
       "\n",
       "    .dataframe tbody tr th {\n",
       "        vertical-align: top;\n",
       "    }\n",
       "\n",
       "    .dataframe thead th {\n",
       "        text-align: right;\n",
       "    }\n",
       "</style>\n",
       "<table border=\"1\" class=\"dataframe\">\n",
       "  <thead>\n",
       "    <tr style=\"text-align: right;\">\n",
       "      <th></th>\n",
       "      <th>buying</th>\n",
       "      <th>maint</th>\n",
       "      <th>doors</th>\n",
       "      <th>persons</th>\n",
       "      <th>lug_boot</th>\n",
       "      <th>safety</th>\n",
       "    </tr>\n",
       "  </thead>\n",
       "  <tbody>\n",
       "    <tr>\n",
       "      <th>214</th>\n",
       "      <td>4</td>\n",
       "      <td>3</td>\n",
       "      <td>4</td>\n",
       "      <td>3</td>\n",
       "      <td>3</td>\n",
       "      <td>2</td>\n",
       "    </tr>\n",
       "    <tr>\n",
       "      <th>153</th>\n",
       "      <td>4</td>\n",
       "      <td>3</td>\n",
       "      <td>2</td>\n",
       "      <td>3</td>\n",
       "      <td>1</td>\n",
       "      <td>1</td>\n",
       "    </tr>\n",
       "    <tr>\n",
       "      <th>2574</th>\n",
       "      <td>1</td>\n",
       "      <td>1</td>\n",
       "      <td>1</td>\n",
       "      <td>2</td>\n",
       "      <td>3</td>\n",
       "      <td>2</td>\n",
       "    </tr>\n",
       "    <tr>\n",
       "      <th>647</th>\n",
       "      <td>3</td>\n",
       "      <td>3</td>\n",
       "      <td>4</td>\n",
       "      <td>3</td>\n",
       "      <td>3</td>\n",
       "      <td>3</td>\n",
       "    </tr>\n",
       "    <tr>\n",
       "      <th>4324</th>\n",
       "      <td>1</td>\n",
       "      <td>2</td>\n",
       "      <td>2</td>\n",
       "      <td>3</td>\n",
       "      <td>2</td>\n",
       "      <td>3</td>\n",
       "    </tr>\n",
       "    <tr>\n",
       "      <th>...</th>\n",
       "      <td>...</td>\n",
       "      <td>...</td>\n",
       "      <td>...</td>\n",
       "      <td>...</td>\n",
       "      <td>...</td>\n",
       "      <td>...</td>\n",
       "    </tr>\n",
       "    <tr>\n",
       "      <th>1321</th>\n",
       "      <td>1</td>\n",
       "      <td>4</td>\n",
       "      <td>1</td>\n",
       "      <td>3</td>\n",
       "      <td>3</td>\n",
       "      <td>2</td>\n",
       "    </tr>\n",
       "    <tr>\n",
       "      <th>1972</th>\n",
       "      <td>4</td>\n",
       "      <td>2</td>\n",
       "      <td>1</td>\n",
       "      <td>3</td>\n",
       "      <td>3</td>\n",
       "      <td>2</td>\n",
       "    </tr>\n",
       "    <tr>\n",
       "      <th>1469</th>\n",
       "      <td>1</td>\n",
       "      <td>3</td>\n",
       "      <td>3</td>\n",
       "      <td>2</td>\n",
       "      <td>1</td>\n",
       "      <td>3</td>\n",
       "    </tr>\n",
       "    <tr>\n",
       "      <th>55</th>\n",
       "      <td>4</td>\n",
       "      <td>4</td>\n",
       "      <td>3</td>\n",
       "      <td>1</td>\n",
       "      <td>1</td>\n",
       "      <td>2</td>\n",
       "    </tr>\n",
       "    <tr>\n",
       "      <th>1930</th>\n",
       "      <td>3</td>\n",
       "      <td>1</td>\n",
       "      <td>2</td>\n",
       "      <td>3</td>\n",
       "      <td>3</td>\n",
       "      <td>2</td>\n",
       "    </tr>\n",
       "  </tbody>\n",
       "</table>\n",
       "<p>1598 rows × 6 columns</p>\n",
       "</div>"
      ],
      "text/plain": [
       "      buying  maint  doors  persons  lug_boot  safety\n",
       "214        4      3      4        3         3       2\n",
       "153        4      3      2        3         1       1\n",
       "2574       1      1      1        2         3       2\n",
       "647        3      3      4        3         3       3\n",
       "4324       1      2      2        3         2       3\n",
       "...      ...    ...    ...      ...       ...     ...\n",
       "1321       1      4      1        3         3       2\n",
       "1972       4      2      1        3         3       2\n",
       "1469       1      3      3        2         1       3\n",
       "55         4      4      3        1         1       2\n",
       "1930       3      1      2        3         3       2\n",
       "\n",
       "[1598 rows x 6 columns]"
      ]
     },
     "execution_count": 32,
     "metadata": {},
     "output_type": "execute_result"
    }
   ],
   "source": [
    "x_test"
   ]
  },
  {
   "cell_type": "code",
   "execution_count": 33,
   "metadata": {},
   "outputs": [],
   "source": [
    "import pickle\n",
    "from skl2onnx import convert_sklearn\n",
    "from skl2onnx.common.data_types import FloatTensorType\n",
    "\n",
    "# Load the model\n",
    "with open('ML_classification.pkl', 'rb') as f:\n",
    "    model = pickle.load(f)\n",
    "\n",
    "# Define the initial types for the model inputs\n",
    "initial_type = [('float_input', FloatTensorType([None, 6]))]  # 7 features\n",
    "\n",
    "# Convert to ONNX format\n",
    "onnx_model = convert_sklearn(model, initial_types=initial_type)\n",
    "\n",
    "# Save to a file\n",
    "with open('ML_classification.onnx', 'wb') as f:\n",
    "    f.write(onnx_model.SerializeToString())\n"
   ]
  },
  {
   "cell_type": "code",
   "execution_count": null,
   "metadata": {},
   "outputs": [],
   "source": [
    "aarch64-linux-gnu-g++ -o classification classification_rf.cpp -I/home/phani/onnxruntime-linux-aarch64-1.18.0/include -L/home/phani/onnxruntime-linux-aarch64-1.18.0/lib -lonnxruntime\n"
   ]
  },
  {
   "cell_type": "code",
   "execution_count": null,
   "metadata": {},
   "outputs": [],
   "source": [
    "scp -P 2222 -r /mnt/c/Users/A507658/Downloads/qwen2-docker/ML_classification.onnx root@localhost:/root/"
   ]
  },
  {
   "cell_type": "code",
   "execution_count": 56,
   "metadata": {},
   "outputs": [
    {
     "data": {
      "text/plain": [
       "214     1\n",
       "153     1\n",
       "2574    3\n",
       "647     2\n",
       "4324    4\n",
       "       ..\n",
       "1321    2\n",
       "1972    2\n",
       "1469    2\n",
       "55      1\n",
       "1930    2\n",
       "Name: evaluation, Length: 1598, dtype: int64"
      ]
     },
     "execution_count": 56,
     "metadata": {},
     "output_type": "execute_result"
    }
   ],
   "source": [
    "y_test"
   ]
  },
  {
   "cell_type": "code",
   "execution_count": 63,
   "metadata": {},
   "outputs": [
    {
     "name": "stdout",
     "output_type": "stream",
     "text": [
      "[array([1], dtype=int64), [{1: 0.9999999403953552, 2: 0.0, 3: 0.0, 4: 0.0}]]\n"
     ]
    }
   ],
   "source": [
    "import onnxruntime as ort\n",
    "import numpy as np\n",
    "\n",
    "session = ort.InferenceSession(\"ML_classification.onnx\")\n",
    "inputs = {session.get_inputs()[0].name: np.array([[4, 4, 2, 1, 2, 1]], dtype=np.float32)}\n",
    "outputs = session.run(None, inputs)\n",
    "print(outputs)\n"
   ]
  },
  {
   "cell_type": "code",
   "execution_count": 68,
   "metadata": {},
   "outputs": [
    {
     "name": "stdout",
     "output_type": "stream",
     "text": [
      "Input names:\n",
      "float_input\n",
      "Output names:\n",
      "output_label\n",
      "output_probability\n"
     ]
    }
   ],
   "source": [
    "import onnx\n",
    "\n",
    "# Load the ONNX model\n",
    "model = onnx.load(\"ML_classification.onnx\")\n",
    "\n",
    "# Print input names\n",
    "print(\"Input names:\")\n",
    "for input in model.graph.input:\n",
    "    print(input.name)\n",
    "\n",
    "# Print output names\n",
    "print(\"Output names:\")\n",
    "for output in model.graph.output:\n",
    "    print(output.name)"
   ]
  },
  {
   "cell_type": "code",
   "execution_count": 78,
   "metadata": {},
   "outputs": [
    {
     "name": "stdout",
     "output_type": "stream",
     "text": [
      "Input Names: ['float_input']\n",
      "Output Names: ['output_label', 'output_probability']\n"
     ]
    }
   ],
   "source": [
    "import onnxruntime as ort\n",
    "\n",
    "# Load the ONNX model\n",
    "session = ort.InferenceSession(\"ML_classification.onnx\")\n",
    "\n",
    "# Get the input names\n",
    "input_names = [input.name for input in session.get_inputs()]\n",
    "print(\"Input Names:\", input_names)\n",
    "\n",
    "# Get the output names\n",
    "output_names = [output.name for output in session.get_outputs()]\n",
    "print(\"Output Names:\", output_names)\n"
   ]
  },
  {
   "cell_type": "code",
   "execution_count": 79,
   "metadata": {},
   "outputs": [
    {
     "name": "stdout",
     "output_type": "stream",
     "text": [
      "[array([2], dtype=int64), [{1: 0.009999999776482582, 2: 0.9899999499320984, 3: 0.0, 4: 0.0}]]\n"
     ]
    }
   ],
   "source": [
    "import onnxruntime as ort\n",
    "session = ort.InferenceSession(\"ML_classification.onnx\")\n",
    "inputs = {session.get_inputs()[0].name: np.array([[3,2,1,2,1,3]], dtype=np.float32)}\n",
    "outputs = session.run(None, inputs)\n",
    "print(outputs)\n"
   ]
  },
  {
   "cell_type": "code",
   "execution_count": 34,
   "metadata": {},
   "outputs": [
    {
     "name": "stdout",
     "output_type": "stream",
     "text": [
      "Input Names: ['float_input']\n",
      "Output Names: ['output_label', 'output_probability']\n",
      "Predicted Label: [2]\n",
      "Class Probabilities: [{1: 0.0, 2: 0.9999999403953552, 3: 0.0, 4: 0.0}]\n"
     ]
    }
   ],
   "source": [
    "import onnxruntime as ort\n",
    "import numpy as np\n",
    "\n",
    "# Load the ONNX model\n",
    "session = ort.InferenceSession(\"ML_classification.onnx\")\n",
    "\n",
    "# Get the input names\n",
    "input_names = [input.name for input in session.get_inputs()]\n",
    "print(\"Input Names:\", input_names)\n",
    "\n",
    "# Get the output names\n",
    "output_names = [output.name for output in session.get_outputs()]\n",
    "print(\"Output Names:\", output_names)\n",
    "\n",
    "# Prepare the input data (make sure it's the correct shape and dtype)\n",
    "inputs = {input_names[0]: np.array([[3, 2, 1, 2, 1, 3]], dtype=np.float32)}  # Example input\n",
    "\n",
    "# Run the model to get predictions\n",
    "outputs = session.run(output_names, inputs)\n",
    "\n",
    "# Extract the outputs (label and probability)\n",
    "output_label = outputs[0]  # First output is likely the predicted class\n",
    "output_probability = outputs[1]  # Second output is likely the class probabilities\n",
    "\n",
    "# Print the results\n",
    "print(\"Predicted Label:\", output_label)\n",
    "print(\"Class Probabilities:\", output_probability)\n"
   ]
  },
  {
   "cell_type": "code",
   "execution_count": 65,
   "metadata": {},
   "outputs": [
    {
     "data": {
      "text/html": [
       "<div>\n",
       "<style scoped>\n",
       "    .dataframe tbody tr th:only-of-type {\n",
       "        vertical-align: middle;\n",
       "    }\n",
       "\n",
       "    .dataframe tbody tr th {\n",
       "        vertical-align: top;\n",
       "    }\n",
       "\n",
       "    .dataframe thead th {\n",
       "        text-align: right;\n",
       "    }\n",
       "</style>\n",
       "<table border=\"1\" class=\"dataframe\">\n",
       "  <thead>\n",
       "    <tr style=\"text-align: right;\">\n",
       "      <th></th>\n",
       "      <th>buying</th>\n",
       "      <th>maint</th>\n",
       "      <th>doors</th>\n",
       "      <th>persons</th>\n",
       "      <th>lug_boot</th>\n",
       "      <th>safety</th>\n",
       "    </tr>\n",
       "  </thead>\n",
       "  <tbody>\n",
       "    <tr>\n",
       "      <th>214</th>\n",
       "      <td>4</td>\n",
       "      <td>3</td>\n",
       "      <td>4</td>\n",
       "      <td>3</td>\n",
       "      <td>3</td>\n",
       "      <td>2</td>\n",
       "    </tr>\n",
       "    <tr>\n",
       "      <th>153</th>\n",
       "      <td>4</td>\n",
       "      <td>3</td>\n",
       "      <td>2</td>\n",
       "      <td>3</td>\n",
       "      <td>1</td>\n",
       "      <td>1</td>\n",
       "    </tr>\n",
       "    <tr>\n",
       "      <th>2574</th>\n",
       "      <td>1</td>\n",
       "      <td>2</td>\n",
       "      <td>1</td>\n",
       "      <td>2</td>\n",
       "      <td>3</td>\n",
       "      <td>2</td>\n",
       "    </tr>\n",
       "    <tr>\n",
       "      <th>647</th>\n",
       "      <td>3</td>\n",
       "      <td>3</td>\n",
       "      <td>4</td>\n",
       "      <td>3</td>\n",
       "      <td>3</td>\n",
       "      <td>3</td>\n",
       "    </tr>\n",
       "    <tr>\n",
       "      <th>4324</th>\n",
       "      <td>2</td>\n",
       "      <td>1</td>\n",
       "      <td>3</td>\n",
       "      <td>3</td>\n",
       "      <td>3</td>\n",
       "      <td>3</td>\n",
       "    </tr>\n",
       "    <tr>\n",
       "      <th>...</th>\n",
       "      <td>...</td>\n",
       "      <td>...</td>\n",
       "      <td>...</td>\n",
       "      <td>...</td>\n",
       "      <td>...</td>\n",
       "      <td>...</td>\n",
       "    </tr>\n",
       "    <tr>\n",
       "      <th>1321</th>\n",
       "      <td>1</td>\n",
       "      <td>4</td>\n",
       "      <td>1</td>\n",
       "      <td>3</td>\n",
       "      <td>3</td>\n",
       "      <td>2</td>\n",
       "    </tr>\n",
       "    <tr>\n",
       "      <th>1972</th>\n",
       "      <td>2</td>\n",
       "      <td>4</td>\n",
       "      <td>4</td>\n",
       "      <td>2</td>\n",
       "      <td>2</td>\n",
       "      <td>2</td>\n",
       "    </tr>\n",
       "    <tr>\n",
       "      <th>1469</th>\n",
       "      <td>1</td>\n",
       "      <td>3</td>\n",
       "      <td>3</td>\n",
       "      <td>2</td>\n",
       "      <td>1</td>\n",
       "      <td>3</td>\n",
       "    </tr>\n",
       "    <tr>\n",
       "      <th>55</th>\n",
       "      <td>4</td>\n",
       "      <td>4</td>\n",
       "      <td>3</td>\n",
       "      <td>1</td>\n",
       "      <td>1</td>\n",
       "      <td>2</td>\n",
       "    </tr>\n",
       "    <tr>\n",
       "      <th>1930</th>\n",
       "      <td>3</td>\n",
       "      <td>1</td>\n",
       "      <td>4</td>\n",
       "      <td>3</td>\n",
       "      <td>2</td>\n",
       "      <td>3</td>\n",
       "    </tr>\n",
       "  </tbody>\n",
       "</table>\n",
       "<p>1598 rows × 6 columns</p>\n",
       "</div>"
      ],
      "text/plain": [
       "      buying  maint  doors  persons  lug_boot  safety\n",
       "214        4      3      4        3         3       2\n",
       "153        4      3      2        3         1       1\n",
       "2574       1      2      1        2         3       2\n",
       "647        3      3      4        3         3       3\n",
       "4324       2      1      3        3         3       3\n",
       "...      ...    ...    ...      ...       ...     ...\n",
       "1321       1      4      1        3         3       2\n",
       "1972       2      4      4        2         2       2\n",
       "1469       1      3      3        2         1       3\n",
       "55         4      4      3        1         1       2\n",
       "1930       3      1      4        3         2       3\n",
       "\n",
       "[1598 rows x 6 columns]"
      ]
     },
     "execution_count": 65,
     "metadata": {},
     "output_type": "execute_result"
    }
   ],
   "source": [
    "x_test"
   ]
  },
  {
   "cell_type": "code",
   "execution_count": 66,
   "metadata": {},
   "outputs": [
    {
     "name": "stdout",
     "output_type": "stream",
     "text": [
      "buying\n",
      "1    710\n",
      "2    482\n",
      "3    208\n",
      "4    198\n",
      "Name: count, dtype: int64\n",
      "maint\n",
      "1    642\n",
      "2    488\n",
      "3    263\n",
      "4    205\n",
      "Name: count, dtype: int64\n",
      "doors\n",
      "2    430\n",
      "1    401\n",
      "4    400\n",
      "3    367\n",
      "Name: count, dtype: int64\n",
      "persons\n",
      "2    828\n",
      "3    572\n",
      "1    198\n",
      "Name: count, dtype: int64\n",
      "lug_boot\n",
      "3    588\n",
      "2    584\n",
      "1    426\n",
      "Name: count, dtype: int64\n",
      "safety\n",
      "3    881\n",
      "2    516\n",
      "1    201\n",
      "Name: count, dtype: int64\n"
     ]
    }
   ],
   "source": [
    "for i in x_test.columns:\n",
    "    print(x_test[i].value_counts())"
   ]
  },
  {
   "cell_type": "code",
   "execution_count": 67,
   "metadata": {},
   "outputs": [
    {
     "data": {
      "text/plain": [
       "lug_boot\n",
       "3    588\n",
       "2    584\n",
       "1    426\n",
       "Name: count, dtype: int64"
      ]
     },
     "execution_count": 67,
     "metadata": {},
     "output_type": "execute_result"
    }
   ],
   "source": [
    "x_test['lug_boot'].value_counts()"
   ]
  },
  {
   "cell_type": "code",
   "execution_count": 35,
   "metadata": {},
   "outputs": [
    {
     "name": "stdout",
     "output_type": "stream",
     "text": [
      "float_input\n"
     ]
    }
   ],
   "source": [
    "import onnx\n",
    "\n",
    "model = onnx.load(\"ML_classification.onnx\")\n",
    "for input in model.graph.input:\n",
    "    print(input.name)\n"
   ]
  },
  {
   "cell_type": "code",
   "execution_count": 36,
   "metadata": {},
   "outputs": [
    {
     "name": "stdout",
     "output_type": "stream",
     "text": [
      "Output name: output_label\n",
      "Output name: output_probability\n"
     ]
    }
   ],
   "source": [
    "import onnxruntime as ort\n",
    "\n",
    "session = ort.InferenceSession(\"ML_classification.onnx\")\n",
    "for output in session.get_outputs():\n",
    "    print(\"Output name:\", output.name)\n"
   ]
  },
  {
   "cell_type": "code",
   "execution_count": 70,
   "metadata": {},
   "outputs": [
    {
     "name": "stdout",
     "output_type": "stream",
     "text": [
      "Input Name: float_input\n",
      "Output Name: output_label\n",
      "Output Name: output_probability\n"
     ]
    }
   ],
   "source": [
    "import onnx\n",
    "\n",
    "# Load the model\n",
    "model = onnx.load(\"ML_classification.onnx\")\n",
    "\n",
    "# Print input names\n",
    "for input in model.graph.input:\n",
    "    print(f\"Input Name: {input.name}\")\n",
    "\n",
    "# Print output names\n",
    "for output in model.graph.output:\n",
    "    print(f\"Output Name: {output.name}\")\n"
   ]
  },
  {
   "cell_type": "code",
   "execution_count": 72,
   "metadata": {},
   "outputs": [
    {
     "name": "stdout",
     "output_type": "stream",
     "text": [
      "Input Name: float_input\n",
      "Input Shape: dim {\n",
      "}\n",
      "dim {\n",
      "  dim_value: 6\n",
      "}\n",
      "\n",
      "Input Name: output_label\n",
      "Input Shape: dim {\n",
      "}\n",
      "\n",
      "Input Name: output_probability\n",
      "Input Shape: \n"
     ]
    }
   ],
   "source": [
    "import onnx\n",
    "\n",
    "# Load the model\n",
    "model = onnx.load(\"ML_classification.onnx\")\n",
    "\n",
    "# Print input information\n",
    "for input in model.graph.input:\n",
    "    print(f\"Input Name: {input.name}\")\n",
    "    print(f\"Input Shape: {input.type.tensor_type.shape}\")\n",
    "\n",
    "for input in model.graph.output:\n",
    "    print(f\"Input Name: {input.name}\")\n",
    "    print(f\"Input Shape: {input.type.tensor_type.shape}\")\n"
   ]
  },
  {
   "cell_type": "code",
   "execution_count": null,
   "metadata": {},
   "outputs": [],
   "source": []
  }
 ],
 "metadata": {
  "kernelspec": {
   "display_name": "base",
   "language": "python",
   "name": "python3"
  },
  "language_info": {
   "codemirror_mode": {
    "name": "ipython",
    "version": 3
   },
   "file_extension": ".py",
   "mimetype": "text/x-python",
   "name": "python",
   "nbconvert_exporter": "python",
   "pygments_lexer": "ipython3",
   "version": "3.11.7"
  }
 },
 "nbformat": 4,
 "nbformat_minor": 2
}
